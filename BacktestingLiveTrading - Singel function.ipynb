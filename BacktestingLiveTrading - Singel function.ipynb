{
 "cells": [
  {
   "cell_type": "markdown",
   "id": "858d6f43",
   "metadata": {},
   "source": [
    "## Complete end to end code \n",
    "* [1. Setup](#1)\n",
    "* [2. Algo Logic](#2)\n",
    "* [3. Backtesting](#3)\n",
    "* [4. Live Trading](#4)  "
   ]
  },
  {
   "cell_type": "markdown",
   "id": "ed033ebe",
   "metadata": {},
   "source": [
    "<a id='1'></a>\n",
    "# 1. Set Up"
   ]
  },
  {
   "cell_type": "code",
   "execution_count": null,
   "id": "373f2c65",
   "metadata": {},
   "outputs": [],
   "source": [
    "import alpaca_trade_api as tradeapi\n",
    "import pandas as pd\n",
    "import os\n",
    "import json\n",
    "from alpaca_trade_api.rest import REST, TimeFrame\n",
    "import quantstats as qs\n",
    "# # Replace these with your own API key pairs\n",
    "# API_KEY_ID = 'PKJAGATSRN1M3JLPK3DO'\n",
    "# API_SECRET_KEY = '5lc8SYlcqmsPzO9N97U66fAYcMavTuik9IR60oTQ'\n",
    "\n",
    "# Connect to the Alpaca API\n",
    "\n",
    "os.chdir(\"D:\\\\Python\\\\Alpaca_Keys\") #change this based on the path on your local machine\n",
    "\n",
    "endpoint = \"https://data.alpaca.markets/v2\"\n",
    "headers = json.loads(open(\"keys.txt\",'r').read())"
   ]
  },
  {
   "cell_type": "code",
   "execution_count": 55,
   "id": "08b1eb53",
   "metadata": {},
   "outputs": [
    {
     "data": {
      "text/plain": [
       "'2020-01-01'"
      ]
     },
     "execution_count": 55,
     "metadata": {},
     "output_type": "execute_result"
    }
   ],
   "source": [
    "api = REST(headers[\"APCA-API-KEY-ID\"], headers[\"APCA-API-SECRET-KEY\"], base_url=endpoint)\n",
    "#api = tradeapi.REST(API_KEY_ID, API_SECRET_KEY, base_url='https://paper-api.alpaca.markets')\n",
    "\n",
    "# Get historical price data for a stock\n",
    "symbol = 'AAPL'\n",
    "start_date = \"2020-01-01\"\n",
    "end_date = \"2020-12-31\"\n",
    "start_date"
   ]
  },
  {
   "cell_type": "code",
   "execution_count": 56,
   "id": "6dbb7fe0",
   "metadata": {},
   "outputs": [],
   "source": [
    "barset = {}\n",
    "barset[symbol] = api.get_bars(symbol, TimeFrame.Day, start=start_date, end=end_date, adjustment='all').df"
   ]
  },
  {
   "cell_type": "code",
   "execution_count": 57,
   "id": "8cd2db94",
   "metadata": {},
   "outputs": [],
   "source": [
    "data = barset[symbol]"
   ]
  },
  {
   "cell_type": "code",
   "execution_count": 67,
   "id": "6847e532",
   "metadata": {},
   "outputs": [
    {
     "data": {
      "text/html": [
       "<div>\n",
       "<style scoped>\n",
       "    .dataframe tbody tr th:only-of-type {\n",
       "        vertical-align: middle;\n",
       "    }\n",
       "\n",
       "    .dataframe tbody tr th {\n",
       "        vertical-align: top;\n",
       "    }\n",
       "\n",
       "    .dataframe thead th {\n",
       "        text-align: right;\n",
       "    }\n",
       "</style>\n",
       "<table border=\"1\" class=\"dataframe\">\n",
       "  <thead>\n",
       "    <tr style=\"text-align: right;\">\n",
       "      <th></th>\n",
       "      <th>open</th>\n",
       "      <th>high</th>\n",
       "      <th>low</th>\n",
       "      <th>close</th>\n",
       "      <th>volume</th>\n",
       "      <th>trade_count</th>\n",
       "      <th>vwap</th>\n",
       "    </tr>\n",
       "    <tr>\n",
       "      <th>timestamp</th>\n",
       "      <th></th>\n",
       "      <th></th>\n",
       "      <th></th>\n",
       "      <th></th>\n",
       "      <th></th>\n",
       "      <th></th>\n",
       "      <th></th>\n",
       "    </tr>\n",
       "  </thead>\n",
       "  <tbody>\n",
       "    <tr>\n",
       "      <th>2020-01-02 05:00:00+00:00</th>\n",
       "      <td>72.34</td>\n",
       "      <td>73.41</td>\n",
       "      <td>72.09</td>\n",
       "      <td>73.35</td>\n",
       "      <td>135650672</td>\n",
       "      <td>283487</td>\n",
       "      <td>72.88</td>\n",
       "    </tr>\n",
       "    <tr>\n",
       "      <th>2020-01-03 05:00:00+00:00</th>\n",
       "      <td>72.57</td>\n",
       "      <td>73.40</td>\n",
       "      <td>72.41</td>\n",
       "      <td>72.63</td>\n",
       "      <td>146535580</td>\n",
       "      <td>280941</td>\n",
       "      <td>72.97</td>\n",
       "    </tr>\n",
       "    <tr>\n",
       "      <th>2020-01-06 05:00:00+00:00</th>\n",
       "      <td>71.74</td>\n",
       "      <td>73.25</td>\n",
       "      <td>71.49</td>\n",
       "      <td>73.21</td>\n",
       "      <td>118579096</td>\n",
       "      <td>242866</td>\n",
       "      <td>72.72</td>\n",
       "    </tr>\n",
       "    <tr>\n",
       "      <th>2020-01-07 05:00:00+00:00</th>\n",
       "      <td>73.22</td>\n",
       "      <td>73.48</td>\n",
       "      <td>72.65</td>\n",
       "      <td>72.87</td>\n",
       "      <td>111510672</td>\n",
       "      <td>227869</td>\n",
       "      <td>73.00</td>\n",
       "    </tr>\n",
       "    <tr>\n",
       "      <th>2020-01-08 05:00:00+00:00</th>\n",
       "      <td>72.57</td>\n",
       "      <td>74.35</td>\n",
       "      <td>72.57</td>\n",
       "      <td>74.04</td>\n",
       "      <td>132363788</td>\n",
       "      <td>261771</td>\n",
       "      <td>73.55</td>\n",
       "    </tr>\n",
       "    <tr>\n",
       "      <th>...</th>\n",
       "      <td>...</td>\n",
       "      <td>...</td>\n",
       "      <td>...</td>\n",
       "      <td>...</td>\n",
       "      <td>...</td>\n",
       "      <td>...</td>\n",
       "      <td>...</td>\n",
       "    </tr>\n",
       "    <tr>\n",
       "      <th>2020-12-24 05:00:00+00:00</th>\n",
       "      <td>129.39</td>\n",
       "      <td>131.49</td>\n",
       "      <td>129.17</td>\n",
       "      <td>130.03</td>\n",
       "      <td>54930664</td>\n",
       "      <td>365719</td>\n",
       "      <td>130.38</td>\n",
       "    </tr>\n",
       "    <tr>\n",
       "      <th>2020-12-28 05:00:00+00:00</th>\n",
       "      <td>132.02</td>\n",
       "      <td>135.32</td>\n",
       "      <td>131.54</td>\n",
       "      <td>134.68</td>\n",
       "      <td>124488470</td>\n",
       "      <td>782402</td>\n",
       "      <td>133.84</td>\n",
       "    </tr>\n",
       "    <tr>\n",
       "      <th>2020-12-29 05:00:00+00:00</th>\n",
       "      <td>136.01</td>\n",
       "      <td>136.74</td>\n",
       "      <td>132.36</td>\n",
       "      <td>132.88</td>\n",
       "      <td>121047748</td>\n",
       "      <td>797015</td>\n",
       "      <td>134.37</td>\n",
       "    </tr>\n",
       "    <tr>\n",
       "      <th>2020-12-30 05:00:00+00:00</th>\n",
       "      <td>133.58</td>\n",
       "      <td>133.99</td>\n",
       "      <td>131.43</td>\n",
       "      <td>131.75</td>\n",
       "      <td>95552346</td>\n",
       "      <td>630844</td>\n",
       "      <td>132.34</td>\n",
       "    </tr>\n",
       "    <tr>\n",
       "      <th>2020-12-31 05:00:00+00:00</th>\n",
       "      <td>132.10</td>\n",
       "      <td>132.75</td>\n",
       "      <td>129.78</td>\n",
       "      <td>130.74</td>\n",
       "      <td>99116586</td>\n",
       "      <td>652167</td>\n",
       "      <td>130.92</td>\n",
       "    </tr>\n",
       "  </tbody>\n",
       "</table>\n",
       "<p>253 rows × 7 columns</p>\n",
       "</div>"
      ],
      "text/plain": [
       "                             open    high     low   close     volume  \\\n",
       "timestamp                                                              \n",
       "2020-01-02 05:00:00+00:00   72.34   73.41   72.09   73.35  135650672   \n",
       "2020-01-03 05:00:00+00:00   72.57   73.40   72.41   72.63  146535580   \n",
       "2020-01-06 05:00:00+00:00   71.74   73.25   71.49   73.21  118579096   \n",
       "2020-01-07 05:00:00+00:00   73.22   73.48   72.65   72.87  111510672   \n",
       "2020-01-08 05:00:00+00:00   72.57   74.35   72.57   74.04  132363788   \n",
       "...                           ...     ...     ...     ...        ...   \n",
       "2020-12-24 05:00:00+00:00  129.39  131.49  129.17  130.03   54930664   \n",
       "2020-12-28 05:00:00+00:00  132.02  135.32  131.54  134.68  124488470   \n",
       "2020-12-29 05:00:00+00:00  136.01  136.74  132.36  132.88  121047748   \n",
       "2020-12-30 05:00:00+00:00  133.58  133.99  131.43  131.75   95552346   \n",
       "2020-12-31 05:00:00+00:00  132.10  132.75  129.78  130.74   99116586   \n",
       "\n",
       "                           trade_count    vwap  \n",
       "timestamp                                       \n",
       "2020-01-02 05:00:00+00:00       283487   72.88  \n",
       "2020-01-03 05:00:00+00:00       280941   72.97  \n",
       "2020-01-06 05:00:00+00:00       242866   72.72  \n",
       "2020-01-07 05:00:00+00:00       227869   73.00  \n",
       "2020-01-08 05:00:00+00:00       261771   73.55  \n",
       "...                                ...     ...  \n",
       "2020-12-24 05:00:00+00:00       365719  130.38  \n",
       "2020-12-28 05:00:00+00:00       782402  133.84  \n",
       "2020-12-29 05:00:00+00:00       797015  134.37  \n",
       "2020-12-30 05:00:00+00:00       630844  132.34  \n",
       "2020-12-31 05:00:00+00:00       652167  130.92  \n",
       "\n",
       "[253 rows x 7 columns]"
      ]
     },
     "execution_count": 67,
     "metadata": {},
     "output_type": "execute_result"
    }
   ],
   "source": [
    "data"
   ]
  },
  {
   "cell_type": "markdown",
   "id": "ad55cf4f",
   "metadata": {},
   "source": [
    "<a id='2'></a>\n",
    "# 2. Algo Logic"
   ]
  },
  {
   "cell_type": "code",
   "execution_count": 58,
   "id": "6c1f5f24",
   "metadata": {},
   "outputs": [],
   "source": [
    "def stochastic_rsi_strategy(data):\n",
    "    # Calculate the Stochastic Oscillator\n",
    "    high = data['high'].rolling(window=14).max()\n",
    "    low = data['low'].rolling(window=14).min()\n",
    "    k = 100 * (data['close'] - low) / (high - low)\n",
    "    d = k.rolling(window=3).mean()\n",
    "\n",
    "    # Calculate the RSI\n",
    "    delta = data['close'].diff()\n",
    "    gain = delta.where(delta > 0, 0)\n",
    "    loss = -delta.where(delta < 0, 0)\n",
    "    avg_gain = gain.rolling(window=14).mean()\n",
    "    avg_loss = loss.rolling(window=14).mean()\n",
    "    rs = avg_gain / avg_loss\n",
    "    rsi = 100 - (100 / (1 + rs))\n",
    "\n",
    "    # Generate buy and sell signals\n",
    "    buy_signal = (k > 80) & (rsi > 50)\n",
    "    sell_signal = (k < 20) & (rsi < 50)\n",
    "\n",
    "    # Combine the signals into a single DataFrame\n",
    "    signals = pd.DataFrame(index=data.index)\n",
    "    signals['buy'] = buy_signal\n",
    "    signals['sell'] = sell_signal\n",
    "\n",
    "    return signals"
   ]
  },
  {
   "cell_type": "markdown",
   "id": "d7c635f3",
   "metadata": {},
   "source": [
    "<a id='3'></a>\n",
    "# 3. Backtesting"
   ]
  },
  {
   "cell_type": "code",
   "execution_count": 59,
   "id": "36a86669",
   "metadata": {},
   "outputs": [
    {
     "name": "stdout",
     "output_type": "stream",
     "text": [
      "Final Portfolio Value: $168305.97\n",
      "P/L: $68305.97\n"
     ]
    }
   ],
   "source": [
    "# Generate trading signals\n",
    "signals = stochastic_rsi_strategy(data)\n",
    "\n",
    "# Backtest the strategy\n",
    "initial_capital = 100000.0\n",
    "position = 0\n",
    "for i in range(len(data)):\n",
    "    # Check for buy signals\n",
    "    if signals.loc[data.index[i], 'buy']:\n",
    "        shares_to_buy = int(initial_capital / data['close'][i])\n",
    "        position += shares_to_buy\n",
    "        initial_capital -= shares_to_buy * data['close'][i]\n",
    "\n",
    "    # Check for sell signals\n",
    "    if signals.loc[data.index[i], 'sell']:\n",
    "        initial_capital += position * data['close'][i]\n",
    "        position = 0\n",
    "\n",
    "# Print the final portfolio value and P/L\n",
    "final_portfolio_value = initial_capital + position * data['close'][-1]\n",
    "pnl = final_portfolio_value - 100000.0\n",
    "print(f'Final Portfolio Value: ${final_portfolio_value:.2f}')\n",
    "print(f'P/L: ${pnl:.2f}')"
   ]
  },
  {
   "cell_type": "code",
   "execution_count": null,
   "id": "a83bc2a0",
   "metadata": {},
   "outputs": [],
   "source": [
    "qs.extend_pandas()\n",
    "returns = data['close'].pct_change()\n",
    "qs.reports.full(returns, 'AAPL Buy and Hold')"
   ]
  },
  {
   "cell_type": "markdown",
   "id": "82c7a03f",
   "metadata": {},
   "source": [
    "<a id='3'></a>\n",
    "# 3. Paper/Live Trading"
   ]
  },
  {
   "cell_type": "code",
   "execution_count": 66,
   "id": "050e9b7c",
   "metadata": {},
   "outputs": [
    {
     "ename": "TypeError",
     "evalue": "'float' object is not subscriptable",
     "output_type": "error",
     "traceback": [
      "\u001b[1;31m---------------------------------------------------------------------------\u001b[0m",
      "\u001b[1;31mTypeError\u001b[0m                                 Traceback (most recent call last)",
      "\u001b[1;32m~\\AppData\\Local\\Temp/ipykernel_27180/1278443867.py\u001b[0m in \u001b[0;36m<module>\u001b[1;34m\u001b[0m\n\u001b[0;32m      3\u001b[0m \u001b[1;33m\u001b[0m\u001b[0m\n\u001b[0;32m      4\u001b[0m \u001b[1;31m# Generate trading signals\u001b[0m\u001b[1;33m\u001b[0m\u001b[1;33m\u001b[0m\u001b[0m\n\u001b[1;32m----> 5\u001b[1;33m \u001b[0msignals\u001b[0m \u001b[1;33m=\u001b[0m \u001b[0mstochastic_rsi_strategy\u001b[0m\u001b[1;33m(\u001b[0m\u001b[0mprice\u001b[0m\u001b[1;33m)\u001b[0m\u001b[1;33m\u001b[0m\u001b[1;33m\u001b[0m\u001b[0m\n\u001b[0m\u001b[0;32m      6\u001b[0m \u001b[1;33m\u001b[0m\u001b[0m\n\u001b[0;32m      7\u001b[0m \u001b[1;31m# Live trade the strategy\u001b[0m\u001b[1;33m\u001b[0m\u001b[1;33m\u001b[0m\u001b[0m\n",
      "\u001b[1;32m~\\AppData\\Local\\Temp/ipykernel_27180/3316964128.py\u001b[0m in \u001b[0;36mstochastic_rsi_strategy\u001b[1;34m(data)\u001b[0m\n\u001b[0;32m      1\u001b[0m \u001b[1;32mdef\u001b[0m \u001b[0mstochastic_rsi_strategy\u001b[0m\u001b[1;33m(\u001b[0m\u001b[0mdata\u001b[0m\u001b[1;33m)\u001b[0m\u001b[1;33m:\u001b[0m\u001b[1;33m\u001b[0m\u001b[1;33m\u001b[0m\u001b[0m\n\u001b[0;32m      2\u001b[0m     \u001b[1;31m# Calculate the Stochastic Oscillator\u001b[0m\u001b[1;33m\u001b[0m\u001b[1;33m\u001b[0m\u001b[0m\n\u001b[1;32m----> 3\u001b[1;33m     \u001b[0mhigh\u001b[0m \u001b[1;33m=\u001b[0m \u001b[0mdata\u001b[0m\u001b[1;33m[\u001b[0m\u001b[1;34m'high'\u001b[0m\u001b[1;33m]\u001b[0m\u001b[1;33m.\u001b[0m\u001b[0mrolling\u001b[0m\u001b[1;33m(\u001b[0m\u001b[0mwindow\u001b[0m\u001b[1;33m=\u001b[0m\u001b[1;36m14\u001b[0m\u001b[1;33m)\u001b[0m\u001b[1;33m.\u001b[0m\u001b[0mmax\u001b[0m\u001b[1;33m(\u001b[0m\u001b[1;33m)\u001b[0m\u001b[1;33m\u001b[0m\u001b[1;33m\u001b[0m\u001b[0m\n\u001b[0m\u001b[0;32m      4\u001b[0m     \u001b[0mlow\u001b[0m \u001b[1;33m=\u001b[0m \u001b[0mdata\u001b[0m\u001b[1;33m[\u001b[0m\u001b[1;34m'low'\u001b[0m\u001b[1;33m]\u001b[0m\u001b[1;33m.\u001b[0m\u001b[0mrolling\u001b[0m\u001b[1;33m(\u001b[0m\u001b[0mwindow\u001b[0m\u001b[1;33m=\u001b[0m\u001b[1;36m14\u001b[0m\u001b[1;33m)\u001b[0m\u001b[1;33m.\u001b[0m\u001b[0mmin\u001b[0m\u001b[1;33m(\u001b[0m\u001b[1;33m)\u001b[0m\u001b[1;33m\u001b[0m\u001b[1;33m\u001b[0m\u001b[0m\n\u001b[0;32m      5\u001b[0m     \u001b[0mk\u001b[0m \u001b[1;33m=\u001b[0m \u001b[1;36m100\u001b[0m \u001b[1;33m*\u001b[0m \u001b[1;33m(\u001b[0m\u001b[0mdata\u001b[0m\u001b[1;33m[\u001b[0m\u001b[1;34m'close'\u001b[0m\u001b[1;33m]\u001b[0m \u001b[1;33m-\u001b[0m \u001b[0mlow\u001b[0m\u001b[1;33m)\u001b[0m \u001b[1;33m/\u001b[0m \u001b[1;33m(\u001b[0m\u001b[0mhigh\u001b[0m \u001b[1;33m-\u001b[0m \u001b[0mlow\u001b[0m\u001b[1;33m)\u001b[0m\u001b[1;33m\u001b[0m\u001b[1;33m\u001b[0m\u001b[0m\n",
      "\u001b[1;31mTypeError\u001b[0m: 'float' object is not subscriptable"
     ]
    }
   ],
   "source": [
    "symbol = 'AAPL'\n",
    "price = api.get_latest_trade(symbol).price\n",
    "\n",
    "# Generate trading signals\n",
    "signals = stochastic_rsi_strategy(price)\n",
    "\n",
    "# Live trade the strategy\n",
    "while True:\n",
    "    # Get the current price of the stock\n",
    "    price = api.get_latest_trade (symbol).price\n",
    "\n",
    "    # Check for buy signals\n",
    "    if signals.loc[0, 'buy']:\n",
    "        api.submit_order(\n",
    "            symbol=symbol,\n",
    "            qty=1,\n",
    "            side='buy',\n",
    "            type='market',\n",
    "            time_in_force='gtc'\n",
    "        )\n",
    "\n",
    "    # Check for sell signals\n",
    "    if signals.loc[0, 'sell']:\n",
    "        api.submit_order(\n",
    "            symbol=symbol,\n",
    "            qty=1,\n",
    "            side='sell',\n",
    "            type='market',\n",
    "            time_in_force='gtc'\n",
    "        )\n",
    "\n",
    "    # Wait for the next trading interval\n",
    "    time.sleep(60)"
   ]
  },
  {
   "cell_type": "code",
   "execution_count": null,
   "id": "cd057007",
   "metadata": {},
   "outputs": [],
   "source": []
  }
 ],
 "metadata": {
  "kernelspec": {
   "display_name": "Python 3 (ipykernel)",
   "language": "python",
   "name": "python3"
  },
  "language_info": {
   "codemirror_mode": {
    "name": "ipython",
    "version": 3
   },
   "file_extension": ".py",
   "mimetype": "text/x-python",
   "name": "python",
   "nbconvert_exporter": "python",
   "pygments_lexer": "ipython3",
   "version": "3.9.13"
  }
 },
 "nbformat": 4,
 "nbformat_minor": 5
}
