{
 "cells": [
  {
   "cell_type": "markdown",
   "id": "7fd9b28a",
   "metadata": {},
   "source": [
    "## Complete end to end code \n",
    "* [1. Setup](#1)\n",
    "* [2. Algo Logic](#2)\n",
    "* [3. Backtesting](#3)\n",
    "* [4. Live Trading](#4)  "
   ]
  },
  {
   "cell_type": "markdown",
   "id": "e2928507",
   "metadata": {},
   "source": [
    "<a id='1'></a>\n",
    "# 1. Set Up"
   ]
  },
  {
   "cell_type": "code",
   "execution_count": null,
   "id": "a5c2a8af",
   "metadata": {},
   "outputs": [],
   "source": [
    "import alpaca_trade_api as tradeapi\n",
    "import pandas as pd\n",
    "import os\n",
    "import json\n",
    "from alpaca_trade_api.rest import REST, TimeFrame\n",
    "import quantstats as qs\n",
    "# # Replace these with your own API key pairs\n",
    "# API_KEY_ID = 'PKJAGATSRN1M3JLPK3DO'\n",
    "# API_SECRET_KEY = '5lc8SYlcqmsPzO9N97U66fAYcMavTuik9IR60oTQ'\n",
    "\n",
    "# Connect to the Alpaca API\n",
    "\n",
    "os.chdir(\"D:\\\\Python\\\\Alpaca_Keys\") #change this based on the path on your local machine\n",
    "\n",
    "endpoint = \"https://data.alpaca.markets/v2\"\n",
    "headers = json.loads(open(\"keys.txt\",'r').read())"
   ]
  },
  {
   "cell_type": "code",
   "execution_count": 55,
   "id": "08b1eb53",
   "metadata": {},
   "outputs": [
    {
     "data": {
      "text/plain": [
       "'2020-01-01'"
      ]
     },
     "execution_count": 55,
     "metadata": {},
     "output_type": "execute_result"
    }
   ],
   "source": [
    "api = REST(headers[\"APCA-API-KEY-ID\"], headers[\"APCA-API-SECRET-KEY\"], base_url=endpoint)\n",
    "#api = tradeapi.REST(API_KEY_ID, API_SECRET_KEY, base_url='https://paper-api.alpaca.markets')\n",
    "\n",
    "# Get historical price data for a stock\n",
    "symbol = 'AAPL'\n",
    "start_date = \"2020-01-01\"\n",
    "end_date = \"2020-12-31\"\n",
    "start_date"
   ]
  },
  {
   "cell_type": "code",
   "execution_count": 56,
   "id": "6dbb7fe0",
   "metadata": {},
   "outputs": [],
   "source": [
    "barset = {}\n",
    "barset[symbol] = api.get_bars(symbol, TimeFrame.Day, start=start_date, end=end_date, adjustment='all').df"
   ]
  },
  {
   "cell_type": "code",
   "execution_count": 57,
   "id": "8cd2db94",
   "metadata": {},
   "outputs": [],
   "source": [
    "data = barset[symbol]"
   ]
  },
  {
   "cell_type": "code",
   "execution_count": 67,
   "id": "6847e532",
   "metadata": {},
   "outputs": [
    {
     "data": {
      "text/html": [
       "<div>\n",
       "<style scoped>\n",
       "    .dataframe tbody tr th:only-of-type {\n",
       "        vertical-align: middle;\n",
       "    }\n",
       "\n",
       "    .dataframe tbody tr th {\n",
       "        vertical-align: top;\n",
       "    }\n",
       "\n",
       "    .dataframe thead th {\n",
       "        text-align: right;\n",
       "    }\n",
       "</style>\n",
       "<table border=\"1\" class=\"dataframe\">\n",
       "  <thead>\n",
       "    <tr style=\"text-align: right;\">\n",
       "      <th></th>\n",
       "      <th>open</th>\n",
       "      <th>high</th>\n",
       "      <th>low</th>\n",
       "      <th>close</th>\n",
       "      <th>volume</th>\n",
       "      <th>trade_count</th>\n",
       "      <th>vwap</th>\n",
       "    </tr>\n",
       "    <tr>\n",
       "      <th>timestamp</th>\n",
       "      <th></th>\n",
       "      <th></th>\n",
       "      <th></th>\n",
       "      <th></th>\n",
       "      <th></th>\n",
       "      <th></th>\n",
       "      <th></th>\n",
       "    </tr>\n",
       "  </thead>\n",
       "  <tbody>\n",
       "    <tr>\n",
       "      <th>2020-01-02 05:00:00+00:00</th>\n",
       "      <td>72.34</td>\n",
       "      <td>73.41</td>\n",
       "      <td>72.09</td>\n",
       "      <td>73.35</td>\n",
       "      <td>135650672</td>\n",
       "      <td>283487</td>\n",
       "      <td>72.88</td>\n",
       "    </tr>\n",
       "    <tr>\n",
       "      <th>2020-01-03 05:00:00+00:00</th>\n",
       "      <td>72.57</td>\n",
       "      <td>73.40</td>\n",
       "      <td>72.41</td>\n",
       "      <td>72.63</td>\n",
       "      <td>146535580</td>\n",
       "      <td>280941</td>\n",
       "      <td>72.97</td>\n",
       "    </tr>\n",
       "    <tr>\n",
       "      <th>2020-01-06 05:00:00+00:00</th>\n",
       "      <td>71.74</td>\n",
       "      <td>73.25</td>\n",
       "      <td>71.49</td>\n",
       "      <td>73.21</td>\n",
       "      <td>118579096</td>\n",
       "      <td>242866</td>\n",
       "      <td>72.72</td>\n",
       "    </tr>\n",
       "    <tr>\n",
       "      <th>2020-01-07 05:00:00+00:00</th>\n",
       "      <td>73.22</td>\n",
       "      <td>73.48</td>\n",
       "      <td>72.65</td>\n",
       "      <td>72.87</td>\n",
       "      <td>111510672</td>\n",
       "      <td>227869</td>\n",
       "      <td>73.00</td>\n",
       "    </tr>\n",
       "    <tr>\n",
       "      <th>2020-01-08 05:00:00+00:00</th>\n",
       "      <td>72.57</td>\n",
       "      <td>74.35</td>\n",
       "      <td>72.57</td>\n",
       "      <td>74.04</td>\n",
       "      <td>132363788</td>\n",
       "      <td>261771</td>\n",
       "      <td>73.55</td>\n",
       "    </tr>\n",
       "    <tr>\n",
       "      <th>...</th>\n",
       "      <td>...</td>\n",
       "      <td>...</td>\n",
       "      <td>...</td>\n",
       "      <td>...</td>\n",
       "      <td>...</td>\n",
       "      <td>...</td>\n",
       "      <td>...</td>\n",
       "    </tr>\n",
       "    <tr>\n",
       "      <th>2020-12-24 05:00:00+00:00</th>\n",
       "      <td>129.39</td>\n",
       "      <td>131.49</td>\n",
       "      <td>129.17</td>\n",
       "      <td>130.03</td>\n",
       "      <td>54930664</td>\n",
       "      <td>365719</td>\n",
       "      <td>130.38</td>\n",
       "    </tr>\n",
       "    <tr>\n",
       "      <th>2020-12-28 05:00:00+00:00</th>\n",
       "      <td>132.02</td>\n",
       "      <td>135.32</td>\n",
       "      <td>131.54</td>\n",
       "      <td>134.68</td>\n",
       "      <td>124488470</td>\n",
       "      <td>782402</td>\n",
       "      <td>133.84</td>\n",
       "    </tr>\n",
       "    <tr>\n",
       "      <th>2020-12-29 05:00:00+00:00</th>\n",
       "      <td>136.01</td>\n",
       "      <td>136.74</td>\n",
       "      <td>132.36</td>\n",
       "      <td>132.88</td>\n",
       "      <td>121047748</td>\n",
       "      <td>797015</td>\n",
       "      <td>134.37</td>\n",
       "    </tr>\n",
       "    <tr>\n",
       "      <th>2020-12-30 05:00:00+00:00</th>\n",
       "      <td>133.58</td>\n",
       "      <td>133.99</td>\n",
       "      <td>131.43</td>\n",
       "      <td>131.75</td>\n",
       "      <td>95552346</td>\n",
       "      <td>630844</td>\n",
       "      <td>132.34</td>\n",
       "    </tr>\n",
       "    <tr>\n",
       "      <th>2020-12-31 05:00:00+00:00</th>\n",
       "      <td>132.10</td>\n",
       "      <td>132.75</td>\n",
       "      <td>129.78</td>\n",
       "      <td>130.74</td>\n",
       "      <td>99116586</td>\n",
       "      <td>652167</td>\n",
       "      <td>130.92</td>\n",
       "    </tr>\n",
       "  </tbody>\n",
       "</table>\n",
       "<p>253 rows × 7 columns</p>\n",
       "</div>"
      ],
      "text/plain": [
       "                             open    high     low   close     volume  \\\n",
       "timestamp                                                              \n",
       "2020-01-02 05:00:00+00:00   72.34   73.41   72.09   73.35  135650672   \n",
       "2020-01-03 05:00:00+00:00   72.57   73.40   72.41   72.63  146535580   \n",
       "2020-01-06 05:00:00+00:00   71.74   73.25   71.49   73.21  118579096   \n",
       "2020-01-07 05:00:00+00:00   73.22   73.48   72.65   72.87  111510672   \n",
       "2020-01-08 05:00:00+00:00   72.57   74.35   72.57   74.04  132363788   \n",
       "...                           ...     ...     ...     ...        ...   \n",
       "2020-12-24 05:00:00+00:00  129.39  131.49  129.17  130.03   54930664   \n",
       "2020-12-28 05:00:00+00:00  132.02  135.32  131.54  134.68  124488470   \n",
       "2020-12-29 05:00:00+00:00  136.01  136.74  132.36  132.88  121047748   \n",
       "2020-12-30 05:00:00+00:00  133.58  133.99  131.43  131.75   95552346   \n",
       "2020-12-31 05:00:00+00:00  132.10  132.75  129.78  130.74   99116586   \n",
       "\n",
       "                           trade_count    vwap  \n",
       "timestamp                                       \n",
       "2020-01-02 05:00:00+00:00       283487   72.88  \n",
       "2020-01-03 05:00:00+00:00       280941   72.97  \n",
       "2020-01-06 05:00:00+00:00       242866   72.72  \n",
       "2020-01-07 05:00:00+00:00       227869   73.00  \n",
       "2020-01-08 05:00:00+00:00       261771   73.55  \n",
       "...                                ...     ...  \n",
       "2020-12-24 05:00:00+00:00       365719  130.38  \n",
       "2020-12-28 05:00:00+00:00       782402  133.84  \n",
       "2020-12-29 05:00:00+00:00       797015  134.37  \n",
       "2020-12-30 05:00:00+00:00       630844  132.34  \n",
       "2020-12-31 05:00:00+00:00       652167  130.92  \n",
       "\n",
       "[253 rows x 7 columns]"
      ]
     },
     "execution_count": 67,
     "metadata": {},
     "output_type": "execute_result"
    }
   ],
   "source": [
    "data"
   ]
  },
  {
   "cell_type": "markdown",
   "id": "c1e41b13",
   "metadata": {},
   "source": [
    "<a id='2'></a>\n",
    "# 2. Algo Logic"
   ]
  },
  {
   "cell_type": "code",
   "execution_count": 58,
   "id": "6c1f5f24",
   "metadata": {},
   "outputs": [],
   "source": [
    "def stochastic_rsi_strategy(data):\n",
    "    # Calculate the Stochastic Oscillator\n",
    "    high = data['high'].rolling(window=14).max()\n",
    "    low = data['low'].rolling(window=14).min()\n",
    "    k = 100 * (data['close'] - low) / (high - low)\n",
    "    d = k.rolling(window=3).mean()\n",
    "\n",
    "    # Calculate the RSI\n",
    "    delta = data['close'].diff()\n",
    "    gain = delta.where(delta > 0, 0)\n",
    "    loss = -delta.where(delta < 0, 0)\n",
    "    avg_gain = gain.rolling(window=14).mean()\n",
    "    avg_loss = loss.rolling(window=14).mean()\n",
    "    rs = avg_gain / avg_loss\n",
    "    rsi = 100 - (100 / (1 + rs))\n",
    "\n",
    "    # Generate buy and sell signals\n",
    "    buy_signal = (k > 80) & (rsi > 50)\n",
    "    sell_signal = (k < 20) & (rsi < 50)\n",
    "\n",
    "    # Combine the signals into a single DataFrame\n",
    "    signals = pd.DataFrame(index=data.index)\n",
    "    signals['buy'] = buy_signal\n",
    "    signals['sell'] = sell_signal\n",
    "\n",
    "    return signals"
   ]
  },
  {
   "cell_type": "code",
   "execution_count": null,
   "id": "efb3d01b",
   "metadata": {},
   "outputs": [],
   "source": [
    "<a id='3'></a>\n",
    "# 3. Backtesting"
   ]
  },
  {
   "cell_type": "code",
   "execution_count": 59,
   "id": "36a86669",
   "metadata": {},
   "outputs": [
    {
     "name": "stdout",
     "output_type": "stream",
     "text": [
      "Final Portfolio Value: $168305.97\n",
      "P/L: $68305.97\n"
     ]
    }
   ],
   "source": [
    "# Generate trading signals\n",
    "signals = stochastic_rsi_strategy(data)\n",
    "\n",
    "# Backtest the strategy\n",
    "initial_capital = 100000.0\n",
    "position = 0\n",
    "for i in range(len(data)):\n",
    "    # Check for buy signals\n",
    "    if signals.loc[data.index[i], 'buy']:\n",
    "        shares_to_buy = int(initial_capital / data['close'][i])\n",
    "        position += shares_to_buy\n",
    "        initial_capital -= shares_to_buy * data['close'][i]\n",
    "\n",
    "    # Check for sell signals\n",
    "    if signals.loc[data.index[i], 'sell']:\n",
    "        initial_capital += position * data['close'][i]\n",
    "        position = 0\n",
    "\n",
    "# Print the final portfolio value and P/L\n",
    "final_portfolio_value = initial_capital + position * data['close'][-1]\n",
    "pnl = final_portfolio_value - 100000.0\n",
    "print(f'Final Portfolio Value: ${final_portfolio_value:.2f}')\n",
    "print(f'P/L: ${pnl:.2f}')"
   ]
  },
  {
   "cell_type": "code",
   "execution_count": 60,
   "id": "2dc47a02",
   "metadata": {},
   "outputs": [
    {
     "name": "stdout",
     "output_type": "stream",
     "text": [
      "- AAPL BUY AND HOLD: No data found, symbol may be delisted\n"
     ]
    },
    {
     "data": {
      "text/html": [
       "<h4>Performance Metrics</h4>"
      ],
      "text/plain": [
       "<IPython.core.display.HTML object>"
      ]
     },
     "metadata": {},
     "output_type": "display_data"
    },
    {
     "name": "stderr",
     "output_type": "stream",
     "text": [
      "C:\\Users\\tatsa\\anaconda3\\lib\\site-packages\\scipy\\stats\\_distn_infrastructure.py:2343: RuntimeWarning: invalid value encountered in multiply\n",
      "  lower_bound = _a * scale + loc\n",
      "C:\\Users\\tatsa\\anaconda3\\lib\\site-packages\\scipy\\stats\\_distn_infrastructure.py:2344: RuntimeWarning: invalid value encountered in multiply\n",
      "  upper_bound = _b * scale + loc\n",
      "C:\\Users\\tatsa\\anaconda3\\lib\\site-packages\\scipy\\stats\\_distn_infrastructure.py:2343: RuntimeWarning: invalid value encountered in multiply\n",
      "  lower_bound = _a * scale + loc\n",
      "C:\\Users\\tatsa\\anaconda3\\lib\\site-packages\\scipy\\stats\\_distn_infrastructure.py:2344: RuntimeWarning: invalid value encountered in multiply\n",
      "  upper_bound = _b * scale + loc\n"
     ]
    },
    {
     "ename": "TypeError",
     "evalue": "Invalid comparison between dtype=datetime64[ns, UTC] and datetime",
     "output_type": "error",
     "traceback": [
      "\u001b[1;31m---------------------------------------------------------------------------\u001b[0m",
      "\u001b[1;31mTypeError\u001b[0m                                 Traceback (most recent call last)",
      "\u001b[1;32m~\\anaconda3\\lib\\site-packages\\pandas\\core\\arrays\\datetimelike.py\u001b[0m in \u001b[0;36m_validate_comparison_value\u001b[1;34m(self, other)\u001b[0m\n\u001b[0;32m    581\u001b[0m             \u001b[1;32mtry\u001b[0m\u001b[1;33m:\u001b[0m\u001b[1;33m\u001b[0m\u001b[1;33m\u001b[0m\u001b[0m\n\u001b[1;32m--> 582\u001b[1;33m                 \u001b[0mself\u001b[0m\u001b[1;33m.\u001b[0m\u001b[0m_check_compatible_with\u001b[0m\u001b[1;33m(\u001b[0m\u001b[0mother\u001b[0m\u001b[1;33m)\u001b[0m\u001b[1;33m\u001b[0m\u001b[1;33m\u001b[0m\u001b[0m\n\u001b[0m\u001b[0;32m    583\u001b[0m             \u001b[1;32mexcept\u001b[0m \u001b[1;33m(\u001b[0m\u001b[0mTypeError\u001b[0m\u001b[1;33m,\u001b[0m \u001b[0mIncompatibleFrequency\u001b[0m\u001b[1;33m)\u001b[0m \u001b[1;32mas\u001b[0m \u001b[0merr\u001b[0m\u001b[1;33m:\u001b[0m\u001b[1;33m\u001b[0m\u001b[1;33m\u001b[0m\u001b[0m\n",
      "\u001b[1;32m~\\anaconda3\\lib\\site-packages\\pandas\\core\\arrays\\datetimes.py\u001b[0m in \u001b[0;36m_check_compatible_with\u001b[1;34m(self, other, setitem)\u001b[0m\n\u001b[0;32m    460\u001b[0m             \u001b[1;32mreturn\u001b[0m\u001b[1;33m\u001b[0m\u001b[1;33m\u001b[0m\u001b[0m\n\u001b[1;32m--> 461\u001b[1;33m         \u001b[0mself\u001b[0m\u001b[1;33m.\u001b[0m\u001b[0m_assert_tzawareness_compat\u001b[0m\u001b[1;33m(\u001b[0m\u001b[0mother\u001b[0m\u001b[1;33m)\u001b[0m\u001b[1;33m\u001b[0m\u001b[1;33m\u001b[0m\u001b[0m\n\u001b[0m\u001b[0;32m    462\u001b[0m         \u001b[1;32mif\u001b[0m \u001b[0msetitem\u001b[0m\u001b[1;33m:\u001b[0m\u001b[1;33m\u001b[0m\u001b[1;33m\u001b[0m\u001b[0m\n",
      "\u001b[1;32m~\\anaconda3\\lib\\site-packages\\pandas\\core\\arrays\\datetimes.py\u001b[0m in \u001b[0;36m_assert_tzawareness_compat\u001b[1;34m(self, other)\u001b[0m\n\u001b[0;32m    697\u001b[0m         \u001b[1;32melif\u001b[0m \u001b[0mother_tz\u001b[0m \u001b[1;32mis\u001b[0m \u001b[1;32mNone\u001b[0m\u001b[1;33m:\u001b[0m\u001b[1;33m\u001b[0m\u001b[1;33m\u001b[0m\u001b[0m\n\u001b[1;32m--> 698\u001b[1;33m             raise TypeError(\n\u001b[0m\u001b[0;32m    699\u001b[0m                 \u001b[1;34m\"Cannot compare tz-naive and tz-aware datetime-like objects\"\u001b[0m\u001b[1;33m\u001b[0m\u001b[1;33m\u001b[0m\u001b[0m\n",
      "\u001b[1;31mTypeError\u001b[0m: Cannot compare tz-naive and tz-aware datetime-like objects",
      "\nThe above exception was the direct cause of the following exception:\n",
      "\u001b[1;31mInvalidComparison\u001b[0m                         Traceback (most recent call last)",
      "\u001b[1;32m~\\anaconda3\\lib\\site-packages\\pandas\\core\\arrays\\datetimelike.py\u001b[0m in \u001b[0;36m_cmp_method\u001b[1;34m(self, other, op)\u001b[0m\n\u001b[0;32m   1053\u001b[0m         \u001b[1;32mtry\u001b[0m\u001b[1;33m:\u001b[0m\u001b[1;33m\u001b[0m\u001b[1;33m\u001b[0m\u001b[0m\n\u001b[1;32m-> 1054\u001b[1;33m             \u001b[0mother\u001b[0m \u001b[1;33m=\u001b[0m \u001b[0mself\u001b[0m\u001b[1;33m.\u001b[0m\u001b[0m_validate_comparison_value\u001b[0m\u001b[1;33m(\u001b[0m\u001b[0mother\u001b[0m\u001b[1;33m)\u001b[0m\u001b[1;33m\u001b[0m\u001b[1;33m\u001b[0m\u001b[0m\n\u001b[0m\u001b[0;32m   1055\u001b[0m         \u001b[1;32mexcept\u001b[0m \u001b[0mInvalidComparison\u001b[0m\u001b[1;33m:\u001b[0m\u001b[1;33m\u001b[0m\u001b[1;33m\u001b[0m\u001b[0m\n",
      "\u001b[1;32m~\\anaconda3\\lib\\site-packages\\pandas\\core\\arrays\\datetimelike.py\u001b[0m in \u001b[0;36m_validate_comparison_value\u001b[1;34m(self, other)\u001b[0m\n\u001b[0;32m    584\u001b[0m                 \u001b[1;31m# e.g. tzawareness mismatch\u001b[0m\u001b[1;33m\u001b[0m\u001b[1;33m\u001b[0m\u001b[0m\n\u001b[1;32m--> 585\u001b[1;33m                 \u001b[1;32mraise\u001b[0m \u001b[0mInvalidComparison\u001b[0m\u001b[1;33m(\u001b[0m\u001b[0mother\u001b[0m\u001b[1;33m)\u001b[0m \u001b[1;32mfrom\u001b[0m \u001b[0merr\u001b[0m\u001b[1;33m\u001b[0m\u001b[1;33m\u001b[0m\u001b[0m\n\u001b[0m\u001b[0;32m    586\u001b[0m \u001b[1;33m\u001b[0m\u001b[0m\n",
      "\u001b[1;31mInvalidComparison\u001b[0m: 2020-12-01 00:00:00",
      "\nDuring handling of the above exception, another exception occurred:\n",
      "\u001b[1;31mTypeError\u001b[0m                                 Traceback (most recent call last)",
      "\u001b[1;32m~\\AppData\\Local\\Temp/ipykernel_27180/3853941201.py\u001b[0m in \u001b[0;36m<module>\u001b[1;34m\u001b[0m\n\u001b[0;32m      1\u001b[0m \u001b[0mqs\u001b[0m\u001b[1;33m.\u001b[0m\u001b[0mextend_pandas\u001b[0m\u001b[1;33m(\u001b[0m\u001b[1;33m)\u001b[0m\u001b[1;33m\u001b[0m\u001b[1;33m\u001b[0m\u001b[0m\n\u001b[0;32m      2\u001b[0m \u001b[0mreturns\u001b[0m \u001b[1;33m=\u001b[0m \u001b[0mdata\u001b[0m\u001b[1;33m[\u001b[0m\u001b[1;34m'close'\u001b[0m\u001b[1;33m]\u001b[0m\u001b[1;33m.\u001b[0m\u001b[0mpct_change\u001b[0m\u001b[1;33m(\u001b[0m\u001b[1;33m)\u001b[0m\u001b[1;33m\u001b[0m\u001b[1;33m\u001b[0m\u001b[0m\n\u001b[1;32m----> 3\u001b[1;33m \u001b[0mqs\u001b[0m\u001b[1;33m.\u001b[0m\u001b[0mreports\u001b[0m\u001b[1;33m.\u001b[0m\u001b[0mfull\u001b[0m\u001b[1;33m(\u001b[0m\u001b[0mreturns\u001b[0m\u001b[1;33m,\u001b[0m \u001b[1;34m'AAPL Buy and Hold'\u001b[0m\u001b[1;33m)\u001b[0m\u001b[1;33m\u001b[0m\u001b[1;33m\u001b[0m\u001b[0m\n\u001b[0m",
      "\u001b[1;32m~\\anaconda3\\lib\\site-packages\\quantstats\\reports.py\u001b[0m in \u001b[0;36mfull\u001b[1;34m(returns, benchmark, rf, grayscale, figsize, display, compounded, periods_per_year, match_dates)\u001b[0m\n\u001b[0;32m    286\u001b[0m     \u001b[1;32mif\u001b[0m \u001b[0m_utils\u001b[0m\u001b[1;33m.\u001b[0m\u001b[0m_in_notebook\u001b[0m\u001b[1;33m(\u001b[0m\u001b[1;33m)\u001b[0m\u001b[1;33m:\u001b[0m\u001b[1;33m\u001b[0m\u001b[1;33m\u001b[0m\u001b[0m\n\u001b[0;32m    287\u001b[0m         \u001b[0miDisplay\u001b[0m\u001b[1;33m(\u001b[0m\u001b[0miHTML\u001b[0m\u001b[1;33m(\u001b[0m\u001b[1;34m'<h4>Performance Metrics</h4>'\u001b[0m\u001b[1;33m)\u001b[0m\u001b[1;33m)\u001b[0m\u001b[1;33m\u001b[0m\u001b[1;33m\u001b[0m\u001b[0m\n\u001b[1;32m--> 288\u001b[1;33m         iDisplay(metrics(returns=returns, benchmark=benchmark,\n\u001b[0m\u001b[0;32m    289\u001b[0m                          \u001b[0mrf\u001b[0m\u001b[1;33m=\u001b[0m\u001b[0mrf\u001b[0m\u001b[1;33m,\u001b[0m \u001b[0mdisplay\u001b[0m\u001b[1;33m=\u001b[0m\u001b[0mdisplay\u001b[0m\u001b[1;33m,\u001b[0m \u001b[0mmode\u001b[0m\u001b[1;33m=\u001b[0m\u001b[1;34m'full'\u001b[0m\u001b[1;33m,\u001b[0m\u001b[1;33m\u001b[0m\u001b[1;33m\u001b[0m\u001b[0m\n\u001b[0;32m    290\u001b[0m                          \u001b[0mcompounded\u001b[0m\u001b[1;33m=\u001b[0m\u001b[0mcompounded\u001b[0m\u001b[1;33m,\u001b[0m\u001b[1;33m\u001b[0m\u001b[1;33m\u001b[0m\u001b[0m\n",
      "\u001b[1;32m~\\anaconda3\\lib\\site-packages\\quantstats\\reports.py\u001b[0m in \u001b[0;36mmetrics\u001b[1;34m(returns, benchmark, rf, display, mode, sep, compounded, periods_per_year, prepare_returns, match_dates, **kwargs)\u001b[0m\n\u001b[0;32m    516\u001b[0m \u001b[1;33m\u001b[0m\u001b[0m\n\u001b[0;32m    517\u001b[0m     \u001b[0mtoday\u001b[0m \u001b[1;33m=\u001b[0m \u001b[0mdf\u001b[0m\u001b[1;33m.\u001b[0m\u001b[0mindex\u001b[0m\u001b[1;33m[\u001b[0m\u001b[1;33m-\u001b[0m\u001b[1;36m1\u001b[0m\u001b[1;33m]\u001b[0m  \u001b[1;31m# _dt.today()\u001b[0m\u001b[1;33m\u001b[0m\u001b[1;33m\u001b[0m\u001b[0m\n\u001b[1;32m--> 518\u001b[1;33m     \u001b[0mmetrics\u001b[0m\u001b[1;33m[\u001b[0m\u001b[1;34m'MTD %'\u001b[0m\u001b[1;33m]\u001b[0m \u001b[1;33m=\u001b[0m \u001b[0mcomp_func\u001b[0m\u001b[1;33m(\u001b[0m\u001b[0mdf\u001b[0m\u001b[1;33m[\u001b[0m\u001b[0mdf\u001b[0m\u001b[1;33m.\u001b[0m\u001b[0mindex\u001b[0m \u001b[1;33m>=\u001b[0m \u001b[0m_dt\u001b[0m\u001b[1;33m(\u001b[0m\u001b[0mtoday\u001b[0m\u001b[1;33m.\u001b[0m\u001b[0myear\u001b[0m\u001b[1;33m,\u001b[0m \u001b[0mtoday\u001b[0m\u001b[1;33m.\u001b[0m\u001b[0mmonth\u001b[0m\u001b[1;33m,\u001b[0m \u001b[1;36m1\u001b[0m\u001b[1;33m)\u001b[0m\u001b[1;33m]\u001b[0m\u001b[1;33m)\u001b[0m \u001b[1;33m*\u001b[0m \u001b[0mpct\u001b[0m\u001b[1;33m\u001b[0m\u001b[1;33m\u001b[0m\u001b[0m\n\u001b[0m\u001b[0;32m    519\u001b[0m \u001b[1;33m\u001b[0m\u001b[0m\n\u001b[0;32m    520\u001b[0m     \u001b[0md\u001b[0m \u001b[1;33m=\u001b[0m \u001b[0mtoday\u001b[0m \u001b[1;33m-\u001b[0m \u001b[0mrelativedelta\u001b[0m\u001b[1;33m(\u001b[0m\u001b[0mmonths\u001b[0m\u001b[1;33m=\u001b[0m\u001b[1;36m3\u001b[0m\u001b[1;33m)\u001b[0m\u001b[1;33m\u001b[0m\u001b[1;33m\u001b[0m\u001b[0m\n",
      "\u001b[1;32m~\\anaconda3\\lib\\site-packages\\pandas\\core\\ops\\common.py\u001b[0m in \u001b[0;36mnew_method\u001b[1;34m(self, other)\u001b[0m\n\u001b[0;32m     70\u001b[0m         \u001b[0mother\u001b[0m \u001b[1;33m=\u001b[0m \u001b[0mitem_from_zerodim\u001b[0m\u001b[1;33m(\u001b[0m\u001b[0mother\u001b[0m\u001b[1;33m)\u001b[0m\u001b[1;33m\u001b[0m\u001b[1;33m\u001b[0m\u001b[0m\n\u001b[0;32m     71\u001b[0m \u001b[1;33m\u001b[0m\u001b[0m\n\u001b[1;32m---> 72\u001b[1;33m         \u001b[1;32mreturn\u001b[0m \u001b[0mmethod\u001b[0m\u001b[1;33m(\u001b[0m\u001b[0mself\u001b[0m\u001b[1;33m,\u001b[0m \u001b[0mother\u001b[0m\u001b[1;33m)\u001b[0m\u001b[1;33m\u001b[0m\u001b[1;33m\u001b[0m\u001b[0m\n\u001b[0m\u001b[0;32m     73\u001b[0m \u001b[1;33m\u001b[0m\u001b[0m\n\u001b[0;32m     74\u001b[0m     \u001b[1;32mreturn\u001b[0m \u001b[0mnew_method\u001b[0m\u001b[1;33m\u001b[0m\u001b[1;33m\u001b[0m\u001b[0m\n",
      "\u001b[1;32m~\\anaconda3\\lib\\site-packages\\pandas\\core\\arraylike.py\u001b[0m in \u001b[0;36m__ge__\u001b[1;34m(self, other)\u001b[0m\n\u001b[0;32m     60\u001b[0m     \u001b[1;33m@\u001b[0m\u001b[0munpack_zerodim_and_defer\u001b[0m\u001b[1;33m(\u001b[0m\u001b[1;34m\"__ge__\"\u001b[0m\u001b[1;33m)\u001b[0m\u001b[1;33m\u001b[0m\u001b[1;33m\u001b[0m\u001b[0m\n\u001b[0;32m     61\u001b[0m     \u001b[1;32mdef\u001b[0m \u001b[0m__ge__\u001b[0m\u001b[1;33m(\u001b[0m\u001b[0mself\u001b[0m\u001b[1;33m,\u001b[0m \u001b[0mother\u001b[0m\u001b[1;33m)\u001b[0m\u001b[1;33m:\u001b[0m\u001b[1;33m\u001b[0m\u001b[1;33m\u001b[0m\u001b[0m\n\u001b[1;32m---> 62\u001b[1;33m         \u001b[1;32mreturn\u001b[0m \u001b[0mself\u001b[0m\u001b[1;33m.\u001b[0m\u001b[0m_cmp_method\u001b[0m\u001b[1;33m(\u001b[0m\u001b[0mother\u001b[0m\u001b[1;33m,\u001b[0m \u001b[0moperator\u001b[0m\u001b[1;33m.\u001b[0m\u001b[0mge\u001b[0m\u001b[1;33m)\u001b[0m\u001b[1;33m\u001b[0m\u001b[1;33m\u001b[0m\u001b[0m\n\u001b[0m\u001b[0;32m     63\u001b[0m \u001b[1;33m\u001b[0m\u001b[0m\n\u001b[0;32m     64\u001b[0m     \u001b[1;31m# -------------------------------------------------------------\u001b[0m\u001b[1;33m\u001b[0m\u001b[1;33m\u001b[0m\u001b[0m\n",
      "\u001b[1;32m~\\anaconda3\\lib\\site-packages\\pandas\\core\\indexes\\base.py\u001b[0m in \u001b[0;36m_cmp_method\u001b[1;34m(self, other, op)\u001b[0m\n\u001b[0;32m   7014\u001b[0m \u001b[1;33m\u001b[0m\u001b[0m\n\u001b[0;32m   7015\u001b[0m         \u001b[1;32melif\u001b[0m \u001b[0misinstance\u001b[0m\u001b[1;33m(\u001b[0m\u001b[0mself\u001b[0m\u001b[1;33m.\u001b[0m\u001b[0m_values\u001b[0m\u001b[1;33m,\u001b[0m \u001b[0mExtensionArray\u001b[0m\u001b[1;33m)\u001b[0m\u001b[1;33m:\u001b[0m\u001b[1;33m\u001b[0m\u001b[1;33m\u001b[0m\u001b[0m\n\u001b[1;32m-> 7016\u001b[1;33m             \u001b[0mresult\u001b[0m \u001b[1;33m=\u001b[0m \u001b[0mop\u001b[0m\u001b[1;33m(\u001b[0m\u001b[0mself\u001b[0m\u001b[1;33m.\u001b[0m\u001b[0m_values\u001b[0m\u001b[1;33m,\u001b[0m \u001b[0mother\u001b[0m\u001b[1;33m)\u001b[0m\u001b[1;33m\u001b[0m\u001b[1;33m\u001b[0m\u001b[0m\n\u001b[0m\u001b[0;32m   7017\u001b[0m \u001b[1;33m\u001b[0m\u001b[0m\n\u001b[0;32m   7018\u001b[0m         \u001b[1;32melif\u001b[0m \u001b[0mis_object_dtype\u001b[0m\u001b[1;33m(\u001b[0m\u001b[0mself\u001b[0m\u001b[1;33m.\u001b[0m\u001b[0mdtype\u001b[0m\u001b[1;33m)\u001b[0m \u001b[1;32mand\u001b[0m \u001b[1;32mnot\u001b[0m \u001b[0misinstance\u001b[0m\u001b[1;33m(\u001b[0m\u001b[0mself\u001b[0m\u001b[1;33m,\u001b[0m \u001b[0mABCMultiIndex\u001b[0m\u001b[1;33m)\u001b[0m\u001b[1;33m:\u001b[0m\u001b[1;33m\u001b[0m\u001b[1;33m\u001b[0m\u001b[0m\n",
      "\u001b[1;32m~\\anaconda3\\lib\\site-packages\\pandas\\core\\ops\\common.py\u001b[0m in \u001b[0;36mnew_method\u001b[1;34m(self, other)\u001b[0m\n\u001b[0;32m     70\u001b[0m         \u001b[0mother\u001b[0m \u001b[1;33m=\u001b[0m \u001b[0mitem_from_zerodim\u001b[0m\u001b[1;33m(\u001b[0m\u001b[0mother\u001b[0m\u001b[1;33m)\u001b[0m\u001b[1;33m\u001b[0m\u001b[1;33m\u001b[0m\u001b[0m\n\u001b[0;32m     71\u001b[0m \u001b[1;33m\u001b[0m\u001b[0m\n\u001b[1;32m---> 72\u001b[1;33m         \u001b[1;32mreturn\u001b[0m \u001b[0mmethod\u001b[0m\u001b[1;33m(\u001b[0m\u001b[0mself\u001b[0m\u001b[1;33m,\u001b[0m \u001b[0mother\u001b[0m\u001b[1;33m)\u001b[0m\u001b[1;33m\u001b[0m\u001b[1;33m\u001b[0m\u001b[0m\n\u001b[0m\u001b[0;32m     73\u001b[0m \u001b[1;33m\u001b[0m\u001b[0m\n\u001b[0;32m     74\u001b[0m     \u001b[1;32mreturn\u001b[0m \u001b[0mnew_method\u001b[0m\u001b[1;33m\u001b[0m\u001b[1;33m\u001b[0m\u001b[0m\n",
      "\u001b[1;32m~\\anaconda3\\lib\\site-packages\\pandas\\core\\arraylike.py\u001b[0m in \u001b[0;36m__ge__\u001b[1;34m(self, other)\u001b[0m\n\u001b[0;32m     60\u001b[0m     \u001b[1;33m@\u001b[0m\u001b[0munpack_zerodim_and_defer\u001b[0m\u001b[1;33m(\u001b[0m\u001b[1;34m\"__ge__\"\u001b[0m\u001b[1;33m)\u001b[0m\u001b[1;33m\u001b[0m\u001b[1;33m\u001b[0m\u001b[0m\n\u001b[0;32m     61\u001b[0m     \u001b[1;32mdef\u001b[0m \u001b[0m__ge__\u001b[0m\u001b[1;33m(\u001b[0m\u001b[0mself\u001b[0m\u001b[1;33m,\u001b[0m \u001b[0mother\u001b[0m\u001b[1;33m)\u001b[0m\u001b[1;33m:\u001b[0m\u001b[1;33m\u001b[0m\u001b[1;33m\u001b[0m\u001b[0m\n\u001b[1;32m---> 62\u001b[1;33m         \u001b[1;32mreturn\u001b[0m \u001b[0mself\u001b[0m\u001b[1;33m.\u001b[0m\u001b[0m_cmp_method\u001b[0m\u001b[1;33m(\u001b[0m\u001b[0mother\u001b[0m\u001b[1;33m,\u001b[0m \u001b[0moperator\u001b[0m\u001b[1;33m.\u001b[0m\u001b[0mge\u001b[0m\u001b[1;33m)\u001b[0m\u001b[1;33m\u001b[0m\u001b[1;33m\u001b[0m\u001b[0m\n\u001b[0m\u001b[0;32m     63\u001b[0m \u001b[1;33m\u001b[0m\u001b[0m\n\u001b[0;32m     64\u001b[0m     \u001b[1;31m# -------------------------------------------------------------\u001b[0m\u001b[1;33m\u001b[0m\u001b[1;33m\u001b[0m\u001b[0m\n",
      "\u001b[1;32m~\\anaconda3\\lib\\site-packages\\pandas\\core\\arrays\\datetimelike.py\u001b[0m in \u001b[0;36m_cmp_method\u001b[1;34m(self, other, op)\u001b[0m\n\u001b[0;32m   1054\u001b[0m             \u001b[0mother\u001b[0m \u001b[1;33m=\u001b[0m \u001b[0mself\u001b[0m\u001b[1;33m.\u001b[0m\u001b[0m_validate_comparison_value\u001b[0m\u001b[1;33m(\u001b[0m\u001b[0mother\u001b[0m\u001b[1;33m)\u001b[0m\u001b[1;33m\u001b[0m\u001b[1;33m\u001b[0m\u001b[0m\n\u001b[0;32m   1055\u001b[0m         \u001b[1;32mexcept\u001b[0m \u001b[0mInvalidComparison\u001b[0m\u001b[1;33m:\u001b[0m\u001b[1;33m\u001b[0m\u001b[1;33m\u001b[0m\u001b[0m\n\u001b[1;32m-> 1056\u001b[1;33m             \u001b[1;32mreturn\u001b[0m \u001b[0minvalid_comparison\u001b[0m\u001b[1;33m(\u001b[0m\u001b[0mself\u001b[0m\u001b[1;33m,\u001b[0m \u001b[0mother\u001b[0m\u001b[1;33m,\u001b[0m \u001b[0mop\u001b[0m\u001b[1;33m)\u001b[0m\u001b[1;33m\u001b[0m\u001b[1;33m\u001b[0m\u001b[0m\n\u001b[0m\u001b[0;32m   1057\u001b[0m \u001b[1;33m\u001b[0m\u001b[0m\n\u001b[0;32m   1058\u001b[0m         \u001b[0mdtype\u001b[0m \u001b[1;33m=\u001b[0m \u001b[0mgetattr\u001b[0m\u001b[1;33m(\u001b[0m\u001b[0mother\u001b[0m\u001b[1;33m,\u001b[0m \u001b[1;34m\"dtype\"\u001b[0m\u001b[1;33m,\u001b[0m \u001b[1;32mNone\u001b[0m\u001b[1;33m)\u001b[0m\u001b[1;33m\u001b[0m\u001b[1;33m\u001b[0m\u001b[0m\n",
      "\u001b[1;32m~\\anaconda3\\lib\\site-packages\\pandas\\core\\ops\\invalid.py\u001b[0m in \u001b[0;36minvalid_comparison\u001b[1;34m(left, right, op)\u001b[0m\n\u001b[0;32m     34\u001b[0m     \u001b[1;32melse\u001b[0m\u001b[1;33m:\u001b[0m\u001b[1;33m\u001b[0m\u001b[1;33m\u001b[0m\u001b[0m\n\u001b[0;32m     35\u001b[0m         \u001b[0mtyp\u001b[0m \u001b[1;33m=\u001b[0m \u001b[0mtype\u001b[0m\u001b[1;33m(\u001b[0m\u001b[0mright\u001b[0m\u001b[1;33m)\u001b[0m\u001b[1;33m.\u001b[0m\u001b[0m__name__\u001b[0m\u001b[1;33m\u001b[0m\u001b[1;33m\u001b[0m\u001b[0m\n\u001b[1;32m---> 36\u001b[1;33m         \u001b[1;32mraise\u001b[0m \u001b[0mTypeError\u001b[0m\u001b[1;33m(\u001b[0m\u001b[1;34mf\"Invalid comparison between dtype={left.dtype} and {typ}\"\u001b[0m\u001b[1;33m)\u001b[0m\u001b[1;33m\u001b[0m\u001b[1;33m\u001b[0m\u001b[0m\n\u001b[0m\u001b[0;32m     37\u001b[0m     \u001b[1;32mreturn\u001b[0m \u001b[0mres_values\u001b[0m\u001b[1;33m\u001b[0m\u001b[1;33m\u001b[0m\u001b[0m\n\u001b[0;32m     38\u001b[0m \u001b[1;33m\u001b[0m\u001b[0m\n",
      "\u001b[1;31mTypeError\u001b[0m: Invalid comparison between dtype=datetime64[ns, UTC] and datetime"
     ]
    }
   ],
   "source": [
    "qs.extend_pandas()\n",
    "returns = data['close'].pct_change()\n",
    "qs.reports.full(returns, 'AAPL Buy and Hold')"
   ]
  },
  {
   "cell_type": "code",
   "execution_count": null,
   "id": "6cc9307f",
   "metadata": {},
   "outputs": [],
   "source": []
  },
  {
   "cell_type": "code",
   "execution_count": 65,
   "id": "129c29e4",
   "metadata": {},
   "outputs": [
    {
     "data": {
      "text/plain": [
       "172.98"
      ]
     },
     "execution_count": 65,
     "metadata": {},
     "output_type": "execute_result"
    }
   ],
   "source": [
    "price"
   ]
  },
  {
   "cell_type": "code",
   "execution_count": 66,
   "id": "050e9b7c",
   "metadata": {},
   "outputs": [
    {
     "ename": "TypeError",
     "evalue": "'float' object is not subscriptable",
     "output_type": "error",
     "traceback": [
      "\u001b[1;31m---------------------------------------------------------------------------\u001b[0m",
      "\u001b[1;31mTypeError\u001b[0m                                 Traceback (most recent call last)",
      "\u001b[1;32m~\\AppData\\Local\\Temp/ipykernel_27180/1278443867.py\u001b[0m in \u001b[0;36m<module>\u001b[1;34m\u001b[0m\n\u001b[0;32m      3\u001b[0m \u001b[1;33m\u001b[0m\u001b[0m\n\u001b[0;32m      4\u001b[0m \u001b[1;31m# Generate trading signals\u001b[0m\u001b[1;33m\u001b[0m\u001b[1;33m\u001b[0m\u001b[0m\n\u001b[1;32m----> 5\u001b[1;33m \u001b[0msignals\u001b[0m \u001b[1;33m=\u001b[0m \u001b[0mstochastic_rsi_strategy\u001b[0m\u001b[1;33m(\u001b[0m\u001b[0mprice\u001b[0m\u001b[1;33m)\u001b[0m\u001b[1;33m\u001b[0m\u001b[1;33m\u001b[0m\u001b[0m\n\u001b[0m\u001b[0;32m      6\u001b[0m \u001b[1;33m\u001b[0m\u001b[0m\n\u001b[0;32m      7\u001b[0m \u001b[1;31m# Live trade the strategy\u001b[0m\u001b[1;33m\u001b[0m\u001b[1;33m\u001b[0m\u001b[0m\n",
      "\u001b[1;32m~\\AppData\\Local\\Temp/ipykernel_27180/3316964128.py\u001b[0m in \u001b[0;36mstochastic_rsi_strategy\u001b[1;34m(data)\u001b[0m\n\u001b[0;32m      1\u001b[0m \u001b[1;32mdef\u001b[0m \u001b[0mstochastic_rsi_strategy\u001b[0m\u001b[1;33m(\u001b[0m\u001b[0mdata\u001b[0m\u001b[1;33m)\u001b[0m\u001b[1;33m:\u001b[0m\u001b[1;33m\u001b[0m\u001b[1;33m\u001b[0m\u001b[0m\n\u001b[0;32m      2\u001b[0m     \u001b[1;31m# Calculate the Stochastic Oscillator\u001b[0m\u001b[1;33m\u001b[0m\u001b[1;33m\u001b[0m\u001b[0m\n\u001b[1;32m----> 3\u001b[1;33m     \u001b[0mhigh\u001b[0m \u001b[1;33m=\u001b[0m \u001b[0mdata\u001b[0m\u001b[1;33m[\u001b[0m\u001b[1;34m'high'\u001b[0m\u001b[1;33m]\u001b[0m\u001b[1;33m.\u001b[0m\u001b[0mrolling\u001b[0m\u001b[1;33m(\u001b[0m\u001b[0mwindow\u001b[0m\u001b[1;33m=\u001b[0m\u001b[1;36m14\u001b[0m\u001b[1;33m)\u001b[0m\u001b[1;33m.\u001b[0m\u001b[0mmax\u001b[0m\u001b[1;33m(\u001b[0m\u001b[1;33m)\u001b[0m\u001b[1;33m\u001b[0m\u001b[1;33m\u001b[0m\u001b[0m\n\u001b[0m\u001b[0;32m      4\u001b[0m     \u001b[0mlow\u001b[0m \u001b[1;33m=\u001b[0m \u001b[0mdata\u001b[0m\u001b[1;33m[\u001b[0m\u001b[1;34m'low'\u001b[0m\u001b[1;33m]\u001b[0m\u001b[1;33m.\u001b[0m\u001b[0mrolling\u001b[0m\u001b[1;33m(\u001b[0m\u001b[0mwindow\u001b[0m\u001b[1;33m=\u001b[0m\u001b[1;36m14\u001b[0m\u001b[1;33m)\u001b[0m\u001b[1;33m.\u001b[0m\u001b[0mmin\u001b[0m\u001b[1;33m(\u001b[0m\u001b[1;33m)\u001b[0m\u001b[1;33m\u001b[0m\u001b[1;33m\u001b[0m\u001b[0m\n\u001b[0;32m      5\u001b[0m     \u001b[0mk\u001b[0m \u001b[1;33m=\u001b[0m \u001b[1;36m100\u001b[0m \u001b[1;33m*\u001b[0m \u001b[1;33m(\u001b[0m\u001b[0mdata\u001b[0m\u001b[1;33m[\u001b[0m\u001b[1;34m'close'\u001b[0m\u001b[1;33m]\u001b[0m \u001b[1;33m-\u001b[0m \u001b[0mlow\u001b[0m\u001b[1;33m)\u001b[0m \u001b[1;33m/\u001b[0m \u001b[1;33m(\u001b[0m\u001b[0mhigh\u001b[0m \u001b[1;33m-\u001b[0m \u001b[0mlow\u001b[0m\u001b[1;33m)\u001b[0m\u001b[1;33m\u001b[0m\u001b[1;33m\u001b[0m\u001b[0m\n",
      "\u001b[1;31mTypeError\u001b[0m: 'float' object is not subscriptable"
     ]
    }
   ],
   "source": [
    "symbol = 'AAPL'\n",
    "price = api.get_latest_trade(symbol).price\n",
    "\n",
    "# Generate trading signals\n",
    "signals = stochastic_rsi_strategy(price)\n",
    "\n",
    "# Live trade the strategy\n",
    "while True:\n",
    "    # Get the current price of the stock\n",
    "    price = api.get_latest_trade (symbol).price\n",
    "\n",
    "    # Check for buy signals\n",
    "    if signals.loc[0, 'buy']:\n",
    "        api.submit_order(\n",
    "            symbol=symbol,\n",
    "            qty=1,\n",
    "            side='buy',\n",
    "            type='market',\n",
    "            time_in_force='gtc'\n",
    "        )\n",
    "\n",
    "    # Check for sell signals\n",
    "    if signals.loc[0, 'sell']:\n",
    "        api.submit_order(\n",
    "            symbol=symbol,\n",
    "            qty=1,\n",
    "            side='sell',\n",
    "            type='market',\n",
    "            time_in_force='gtc'\n",
    "        )\n",
    "\n",
    "    # Wait for the next trading interval\n",
    "    time.sleep(60)"
   ]
  },
  {
   "cell_type": "code",
   "execution_count": null,
   "id": "cd057007",
   "metadata": {},
   "outputs": [],
   "source": []
  }
 ],
 "metadata": {
  "kernelspec": {
   "display_name": "Python 3 (ipykernel)",
   "language": "python",
   "name": "python3"
  },
  "language_info": {
   "codemirror_mode": {
    "name": "ipython",
    "version": 3
   },
   "file_extension": ".py",
   "mimetype": "text/x-python",
   "name": "python",
   "nbconvert_exporter": "python",
   "pygments_lexer": "ipython3",
   "version": "3.9.13"
  }
 },
 "nbformat": 4,
 "nbformat_minor": 5
}
