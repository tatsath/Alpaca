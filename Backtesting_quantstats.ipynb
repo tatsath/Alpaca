{
 "cells": [
  {
   "cell_type": "markdown",
   "id": "f0bd1a1d",
   "metadata": {},
   "source": [
    "\"\"\"\n",
    "Alpaca API - MACD + stochastic strategy bactesting using Intraday KPIs\n",
    "\n",
    "\"\"\""
   ]
  },
  {
   "cell_type": "code",
   "execution_count": 1,
   "id": "7381cbad",
   "metadata": {},
   "outputs": [],
   "source": [
    "import os\n",
    "import json\n",
    "from alpaca_trade_api.rest import REST, TimeFrame\n",
    "from copy import deepcopy\n",
    "import numpy as np\n",
    "import pandas as pd"
   ]
  },
  {
   "cell_type": "code",
   "execution_count": 2,
   "id": "529696ce",
   "metadata": {},
   "outputs": [],
   "source": [
    "os.chdir(\"D:\\\\Python\\\\Alpaca_Keys\") #change this based on the path on your local machine\n",
    "\n",
    "endpoint = \"https://data.alpaca.markets/v2\"\n",
    "headers = json.loads(open(\"keys.txt\",'r').read())\n",
    "tickers = ['FB','AMZN','INTC','MSFT','AAPL','GOOG','CSCO','CMCSA','ADBE',\n",
    "           'NVDA','NFLX','PYPL','AMGN','AVGO','TXN','CHTR','QCOM','GILD',\n",
    "           'FISV','BKNG','INTU','ADP','CME','TMUS','MU']"
   ]
  },
  {
   "cell_type": "code",
   "execution_count": 3,
   "id": "2955e256",
   "metadata": {},
   "outputs": [],
   "source": [
    "def hist_data(symbols, start_date =\"2021-12-01\", timeframe=\"Minute\"):\n",
    "    \"\"\"\n",
    "    returns historical bar data for a list of tickers e.g. symbols = [\"MSFT,AMZN,GOOG\"]\n",
    "    \"\"\"\n",
    "    df_data = {}\n",
    "    api = REST(headers[\"APCA-API-KEY-ID\"], headers[\"APCA-API-SECRET-KEY\"], base_url=endpoint)\n",
    "    for ticker in symbols:\n",
    "        if timeframe == \"Minute\":\n",
    "            df_data[ticker] = api.get_bars(ticker, TimeFrame.Minute, start_date, adjustment='all').df\n",
    "        elif timeframe == \"Hour\":\n",
    "            df_data[ticker] = api.get_bars(ticker, TimeFrame.Hour, start_date, adjustment='all').df\n",
    "        else:\n",
    "            df_data[ticker] = api.get_bars(ticker, TimeFrame.Day, start_date, adjustment='all').df\n",
    "    return df_data"
   ]
  },
  {
   "cell_type": "code",
   "execution_count": 4,
   "id": "a82d8b14",
   "metadata": {},
   "outputs": [],
   "source": [
    "def MACD(df_dict, a=12 ,b=26, c=9):\n",
    "    \"\"\"function to calculate MACD\n",
    "       typical values a(fast moving average) = 12; \n",
    "                      b(slow moving average) =26; \n",
    "                      c(signal line ma window) =9\"\"\"\n",
    "    for df in df_dict:\n",
    "        df_dict[df][\"ma_fast\"] = df_dict[df][\"close\"].ewm(span=a, min_periods=a).mean()\n",
    "        df_dict[df][\"ma_slow\"] = df_dict[df][\"close\"].ewm(span=b, min_periods=b).mean()\n",
    "        df_dict[df][\"macd\"] = df_dict[df][\"ma_fast\"] - df_dict[df][\"ma_slow\"]\n",
    "        df_dict[df][\"signal\"] = df_dict[df][\"macd\"].ewm(span=c, min_periods=c).mean()\n",
    "        df_dict[df].drop([\"ma_fast\",\"ma_slow\"], axis=1, inplace=True)\n",
    "\n",
    "def stochastic(df_dict, lookback=14, k=3, d=3):\n",
    "    \"\"\"function to calculate Stochastic Oscillator\n",
    "       lookback = lookback period\n",
    "       k and d = moving average window for %K and %D\"\"\"\n",
    "    for df in df_dict:\n",
    "        df_dict[df][\"HH\"] = df_dict[df][\"high\"].rolling(lookback).max()\n",
    "        df_dict[df][\"LL\"] = df_dict[df][\"low\"].rolling(lookback).min()\n",
    "        df_dict[df][\"%K\"] = (100 * (df_dict[df][\"close\"] - df_dict[df][\"LL\"])/(df_dict[df][\"HH\"]-df_dict[df][\"LL\"])).rolling(k).mean()\n",
    "        df_dict[df][\"%D\"] = df_dict[df][\"%K\"].rolling(d).mean()\n",
    "        df_dict[df].drop([\"HH\",\"LL\"], axis=1, inplace=True)\n",
    " "
   ]
  },
  {
   "cell_type": "code",
   "execution_count": 5,
   "id": "d0517716",
   "metadata": {},
   "outputs": [],
   "source": [
    "def winRate(DF):\n",
    "    #\"function to calculate win rate of intraday trading strategy\"\n",
    "    df = DF[\"return\"]\n",
    "    pos = df[df>1]\n",
    "    neg = df[df<1]\n",
    "    return (len(pos)/len(pos+neg))*100\n",
    "\n",
    "def meanretpertrade(DF):\n",
    "    df = DF[\"return\"]\n",
    "    df_temp = (df-1).dropna()\n",
    "    return df_temp[df_temp!=0].mean()\n",
    "\n",
    "def meanretwintrade(DF):\n",
    "    df = DF[\"return\"]\n",
    "    df_temp = (df-1).dropna()\n",
    "    return df_temp[df_temp>0].mean()\n",
    "\n",
    "def meanretlostrade(DF):\n",
    "    df = DF[\"return\"]\n",
    "    df_temp = (df-1).dropna()\n",
    "    return df_temp[df_temp<0].mean()\n",
    "\n",
    "def maxconsectvloss(DF):\n",
    "    df = DF[\"return\"]\n",
    "    df_temp = df.dropna(axis=0)\n",
    "    df_temp2 = np.where(df_temp<1,1,0)\n",
    "    count_consecutive = []\n",
    "    seek = 0\n",
    "    for i in range(len(df_temp2)):\n",
    "        if df_temp2[i] == 0:\n",
    "            if seek > 0:\n",
    "                count_consecutive.append(seek)\n",
    "            seek = 0\n",
    "        else:\n",
    "            seek+=1\n",
    "    if len(count_consecutive) > 0:\n",
    "        return max(count_consecutive)\n",
    "    else:\n",
    "        return 0\n",
    "    \n",
    "def CAGR(DF):\n",
    "    #\"function to calculate the Cumulative Annual Growth Rate of a trading strategy\"\n",
    "    df = DF.copy()\n",
    "    df[\"cum_return\"] = (1 + df[\"ret\"]).cumprod()\n",
    "    n = len(df)/(252*26) #26 15-minute candles each trading day\n",
    "    CAGR = (df[\"cum_return\"].tolist()[-1])**(1/n) - 1\n",
    "    return CAGR\n",
    "\n",
    "def volatility(DF):\n",
    "    #\"function to calculate annualized volatility of a trading strategy\"\n",
    "    df = DF.copy()\n",
    "    vol = df[\"ret\"].std() * np.sqrt(252*26)\n",
    "    return vol\n",
    "\n",
    "def sharpe(DF,rf):\n",
    "    #\"function to calculate sharpe ratio ; rf is the risk free rate\"\n",
    "    df = DF.copy()\n",
    "    sr = (CAGR(df) - rf)/volatility(df)\n",
    "    return sr\n",
    "\n",
    "def max_dd(DF):\n",
    "    #\"function to calculate max drawdown\"\n",
    "    df = DF.copy()\n",
    "    df[\"cum_return\"] = (1 + df[\"ret\"]).cumprod()\n",
    "    df[\"cum_roll_max\"] = df[\"cum_return\"].cummax()\n",
    "    df[\"drawdown\"] = df[\"cum_roll_max\"] - df[\"cum_return\"]\n",
    "    df[\"drawdown_pct\"] = df[\"drawdown\"]/df[\"cum_roll_max\"]\n",
    "    max_dd = df[\"drawdown_pct\"].max()\n",
    "    return max_dd"
   ]
  },
  {
   "cell_type": "code",
   "execution_count": 6,
   "id": "13983b5a",
   "metadata": {},
   "outputs": [],
   "source": [
    "#extract and store historical data in dataframe\n",
    "historicalData = hist_data(tickers, start_date =\"2021-12-01\", timeframe=\"Hour\") "
   ]
  },
  {
   "cell_type": "code",
   "execution_count": 279,
   "id": "510f488b",
   "metadata": {},
   "outputs": [
    {
     "name": "stdout",
     "output_type": "stream",
     "text": [
      "Calculating daily returns for  FB\n",
      "Calculating daily returns for  AMZN\n",
      "Calculating daily returns for  INTC\n",
      "Calculating daily returns for  MSFT\n",
      "Calculating daily returns for  AAPL\n",
      "Calculating daily returns for  GOOG\n",
      "Calculating daily returns for  CSCO\n",
      "Calculating daily returns for  CMCSA\n",
      "Calculating daily returns for  ADBE\n",
      "Calculating daily returns for  NVDA\n",
      "Calculating daily returns for  NFLX\n",
      "Calculating daily returns for  PYPL\n",
      "Calculating daily returns for  AMGN\n",
      "Calculating daily returns for  AVGO\n",
      "Calculating daily returns for  TXN\n",
      "Calculating daily returns for  CHTR\n",
      "Calculating daily returns for  QCOM\n",
      "Calculating daily returns for  GILD\n",
      "Calculating daily returns for  FISV\n",
      "Calculating daily returns for  BKNG\n",
      "Calculating daily returns for  INTU\n",
      "Calculating daily returns for  ADP\n",
      "Calculating daily returns for  CME\n",
      "Calculating daily returns for  TMUS\n",
      "Calculating daily returns for  MU\n"
     ]
    },
    {
     "data": {
      "image/png": "[encoded data removed]",
      "text/plain": [
       "<Figure size 432x288 with 1 Axes>"
      ]
     },
     "metadata": {
      "needs_background": "light"
     },
     "output_type": "display_data"
    }
   ],
   "source": [
    "    \n",
    "#####################################   BACKTESTING   ##################################\n",
    "ohlc_dict = deepcopy(historicalData)\n",
    "stoch_signal = {}\n",
    "tickers_signal = {}\n",
    "tickers_ret = {}\n",
    "trade_count = {}\n",
    "trade_data = {}\n",
    "hwm = {}\n",
    "\n",
    "MACD(ohlc_dict)\n",
    "stochastic(ohlc_dict)\n",
    "\n",
    "for ticker in tickers:\n",
    "    ohlc_dict[ticker].dropna(inplace=True)\n",
    "    stoch_signal[ticker] = \"\"\n",
    "    tickers_signal[ticker] = \"\"\n",
    "    trade_count[ticker] = 0\n",
    "    hwm[ticker] = 0\n",
    "    tickers_ret[ticker] = [0]\n",
    "    trade_data[ticker] = {}\n",
    "\n",
    "for ticker in tickers:\n",
    "    print(\"Calculating daily returns for \",ticker)\n",
    "    for i in range(1,len(ohlc_dict[ticker])-1):\n",
    "        if ohlc_dict[ticker][\"%K\"][i] < 20:\n",
    "            stoch_signal[ticker] = \"oversold\"\n",
    "        elif ohlc_dict[ticker][\"%K\"][i] > 80:\n",
    "            stoch_signal[ticker] = \"overbought\"\n",
    "        \n",
    "        if tickers_signal[ticker] == \"\":\n",
    "            tickers_ret[ticker].append(0)\n",
    "            if ohlc_dict[ticker][\"macd\"][i]> ohlc_dict[ticker][\"signal\"][i] and \\\n",
    "               ohlc_dict[ticker][\"macd\"][i-1]< ohlc_dict[ticker][\"signal\"][i-1] and \\\n",
    "               stoch_signal[ticker]==\"oversold\":\n",
    "                   tickers_signal[ticker] = \"Buy\"\n",
    "                   trade_count[ticker]+=1\n",
    "                   trade_data[ticker][trade_count[ticker]] = [ohlc_dict[ticker][\"open\"][i+1]]\n",
    "                   hwm[ticker] = ohlc_dict[ticker][\"open\"][i+1]\n",
    "                     \n",
    "        elif tickers_signal[ticker] == \"Buy\":\n",
    "            if ohlc_dict[ticker][\"low\"][i]<0.985*hwm[ticker]:\n",
    "                tickers_signal[ticker] = \"\"\n",
    "                trade_data[ticker][trade_count[ticker]].append(0.985*hwm[ticker])\n",
    "                trade_count[ticker]+=1\n",
    "                tickers_ret[ticker].append((0.985*hwm[ticker]/ohlc_dict[ticker][\"close\"][i-1])-1)\n",
    "            else:\n",
    "                hwm[ticker] = max(hwm[ticker],ohlc_dict[ticker][\"high\"][i])\n",
    "                tickers_ret[ticker].append((ohlc_dict[ticker][\"close\"][i]/ohlc_dict[ticker][\"close\"][i-1])-1)\n",
    "    \n",
    "    if trade_count[ticker] % 2 != 0:\n",
    "        trade_data[ticker][trade_count[ticker]].append(ohlc_dict[ticker][\"close\"][i+1])\n",
    "        \n",
    "    tickers_ret[ticker].append(0)\n",
    "    ohlc_dict[ticker][\"ret\"] = np.array(tickers_ret[ticker])\n",
    "    \n",
    "    \n",
    "# calculating overall strategy's KPIs\n",
    "strategy_df = pd.DataFrame()\n",
    "for ticker in tickers:\n",
    "    strategy_df[ticker] = ohlc_dict[ticker][\"ret\"]\n",
    "    strategy_df[ticker].fillna(0, inplace=True)\n",
    "strategy_df[\"ret\"] = strategy_df.mean(axis=1)\n",
    "    \n",
    "\n",
    "CAGR(strategy_df)\n",
    "sharpe(strategy_df, 0.03)\n",
    "max_dd(strategy_df)\n",
    "\n",
    "(1+strategy_df[\"ret\"]).cumprod().plot() #plotting cumulative strategy return\n",
    "\n",
    "#calculating individual stock's KPIs\n",
    "cagr = {}\n",
    "sharpe_ratios = {}\n",
    "max_drawdown = {}\n",
    "\n",
    "for ticker in tickers:\n",
    "    cagr[ticker] = CAGR(ohlc_dict[ticker])\n",
    "    sharpe_ratios[ticker] =  sharpe(ohlc_dict[ticker],0.03)\n",
    "    max_drawdown[ticker] =  max_dd(ohlc_dict[ticker])\n",
    "    \n",
    "KPI_df = pd.DataFrame([cagr,sharpe_ratios,max_drawdown],index=[\"Return\",\"Sharpe Ratio\",\"Max Drawdown\"])      \n",
    "KPI_df = KPI_df.T"
   ]
  },
  {
   "cell_type": "code",
   "execution_count": 301,
   "id": "9ca77c1f",
   "metadata": {},
   "outputs": [
    {
     "data": {
      "text/plain": [
       "pandas.core.indexes.datetimes.DatetimeIndex"
      ]
     },
     "execution_count": 301,
     "metadata": {},
     "output_type": "execute_result"
    }
   ],
   "source": [
    "type(strategy_df['ret'].index)"
   ]
  },
  {
   "cell_type": "code",
   "execution_count": 302,
   "id": "87c47d24",
   "metadata": {},
   "outputs": [],
   "source": [
    "import quantstats as qs"
   ]
  },
  {
   "cell_type": "code",
   "execution_count": 303,
   "id": "b3e50bd9",
   "metadata": {},
   "outputs": [
    {
     "data": {
      "text/html": [
       "<div>\n",
       "<style scoped>\n",
       "    .dataframe tbody tr th:only-of-type {\n",
       "        vertical-align: middle;\n",
       "    }\n",
       "\n",
       "    .dataframe tbody tr th {\n",
       "        vertical-align: top;\n",
       "    }\n",
       "\n",
       "    .dataframe thead th {\n",
       "        text-align: right;\n",
       "    }\n",
       "</style>\n",
       "<table border=\"1\" class=\"dataframe\">\n",
       "  <thead>\n",
       "    <tr style=\"text-align: right;\">\n",
       "      <th></th>\n",
       "      <th>FB</th>\n",
       "      <th>AMZN</th>\n",
       "      <th>INTC</th>\n",
       "      <th>MSFT</th>\n",
       "      <th>AAPL</th>\n",
       "      <th>GOOG</th>\n",
       "      <th>CSCO</th>\n",
       "      <th>CMCSA</th>\n",
       "      <th>ADBE</th>\n",
       "      <th>NVDA</th>\n",
       "      <th>...</th>\n",
       "      <th>QCOM</th>\n",
       "      <th>GILD</th>\n",
       "      <th>FISV</th>\n",
       "      <th>BKNG</th>\n",
       "      <th>INTU</th>\n",
       "      <th>ADP</th>\n",
       "      <th>CME</th>\n",
       "      <th>TMUS</th>\n",
       "      <th>MU</th>\n",
       "      <th>ret</th>\n",
       "    </tr>\n",
       "    <tr>\n",
       "      <th>timestamp</th>\n",
       "      <th></th>\n",
       "      <th></th>\n",
       "      <th></th>\n",
       "      <th></th>\n",
       "      <th></th>\n",
       "      <th></th>\n",
       "      <th></th>\n",
       "      <th></th>\n",
       "      <th></th>\n",
       "      <th></th>\n",
       "      <th></th>\n",
       "      <th></th>\n",
       "      <th></th>\n",
       "      <th></th>\n",
       "      <th></th>\n",
       "      <th></th>\n",
       "      <th></th>\n",
       "      <th></th>\n",
       "      <th></th>\n",
       "      <th></th>\n",
       "      <th></th>\n",
       "    </tr>\n",
       "  </thead>\n",
       "  <tbody>\n",
       "    <tr>\n",
       "      <th>2021-12-03 10:00:00+00:00</th>\n",
       "      <td>0.0</td>\n",
       "      <td>0.0</td>\n",
       "      <td>0.0</td>\n",
       "      <td>0.000000</td>\n",
       "      <td>0.0</td>\n",
       "      <td>0.0</td>\n",
       "      <td>0.0</td>\n",
       "      <td>0.0</td>\n",
       "      <td>0.0</td>\n",
       "      <td>0.0</td>\n",
       "      <td>...</td>\n",
       "      <td>0.0</td>\n",
       "      <td>0.0</td>\n",
       "      <td>0.0</td>\n",
       "      <td>0.0</td>\n",
       "      <td>0.0</td>\n",
       "      <td>0.0</td>\n",
       "      <td>0.0</td>\n",
       "      <td>0.0</td>\n",
       "      <td>0.0</td>\n",
       "      <td>0.000000</td>\n",
       "    </tr>\n",
       "    <tr>\n",
       "      <th>2021-12-03 11:00:00+00:00</th>\n",
       "      <td>0.0</td>\n",
       "      <td>0.0</td>\n",
       "      <td>0.0</td>\n",
       "      <td>0.000000</td>\n",
       "      <td>0.0</td>\n",
       "      <td>0.0</td>\n",
       "      <td>0.0</td>\n",
       "      <td>0.0</td>\n",
       "      <td>0.0</td>\n",
       "      <td>0.0</td>\n",
       "      <td>...</td>\n",
       "      <td>0.0</td>\n",
       "      <td>0.0</td>\n",
       "      <td>0.0</td>\n",
       "      <td>0.0</td>\n",
       "      <td>0.0</td>\n",
       "      <td>0.0</td>\n",
       "      <td>0.0</td>\n",
       "      <td>0.0</td>\n",
       "      <td>0.0</td>\n",
       "      <td>0.000000</td>\n",
       "    </tr>\n",
       "    <tr>\n",
       "      <th>2021-12-03 12:00:00+00:00</th>\n",
       "      <td>0.0</td>\n",
       "      <td>0.0</td>\n",
       "      <td>0.0</td>\n",
       "      <td>0.000000</td>\n",
       "      <td>0.0</td>\n",
       "      <td>0.0</td>\n",
       "      <td>0.0</td>\n",
       "      <td>0.0</td>\n",
       "      <td>0.0</td>\n",
       "      <td>0.0</td>\n",
       "      <td>...</td>\n",
       "      <td>0.0</td>\n",
       "      <td>0.0</td>\n",
       "      <td>0.0</td>\n",
       "      <td>0.0</td>\n",
       "      <td>0.0</td>\n",
       "      <td>0.0</td>\n",
       "      <td>0.0</td>\n",
       "      <td>0.0</td>\n",
       "      <td>0.0</td>\n",
       "      <td>0.000000</td>\n",
       "    </tr>\n",
       "    <tr>\n",
       "      <th>2021-12-03 13:00:00+00:00</th>\n",
       "      <td>0.0</td>\n",
       "      <td>0.0</td>\n",
       "      <td>0.0</td>\n",
       "      <td>0.004205</td>\n",
       "      <td>0.0</td>\n",
       "      <td>0.0</td>\n",
       "      <td>0.0</td>\n",
       "      <td>0.0</td>\n",
       "      <td>0.0</td>\n",
       "      <td>0.0</td>\n",
       "      <td>...</td>\n",
       "      <td>0.0</td>\n",
       "      <td>0.0</td>\n",
       "      <td>0.0</td>\n",
       "      <td>0.0</td>\n",
       "      <td>0.0</td>\n",
       "      <td>0.0</td>\n",
       "      <td>0.0</td>\n",
       "      <td>0.0</td>\n",
       "      <td>0.0</td>\n",
       "      <td>0.000168</td>\n",
       "    </tr>\n",
       "    <tr>\n",
       "      <th>2021-12-03 14:00:00+00:00</th>\n",
       "      <td>0.0</td>\n",
       "      <td>0.0</td>\n",
       "      <td>0.0</td>\n",
       "      <td>-0.009791</td>\n",
       "      <td>0.0</td>\n",
       "      <td>0.0</td>\n",
       "      <td>0.0</td>\n",
       "      <td>0.0</td>\n",
       "      <td>0.0</td>\n",
       "      <td>0.0</td>\n",
       "      <td>...</td>\n",
       "      <td>0.0</td>\n",
       "      <td>0.0</td>\n",
       "      <td>0.0</td>\n",
       "      <td>0.0</td>\n",
       "      <td>0.0</td>\n",
       "      <td>0.0</td>\n",
       "      <td>0.0</td>\n",
       "      <td>0.0</td>\n",
       "      <td>0.0</td>\n",
       "      <td>-0.000392</td>\n",
       "    </tr>\n",
       "  </tbody>\n",
       "</table>\n",
       "<p>5 rows × 26 columns</p>\n",
       "</div>"
      ],
      "text/plain": [
       "                            FB  AMZN  INTC      MSFT  AAPL  GOOG  CSCO  CMCSA  \\\n",
       "timestamp                                                                       \n",
       "2021-12-03 10:00:00+00:00  0.0   0.0   0.0  0.000000   0.0   0.0   0.0    0.0   \n",
       "2021-12-03 11:00:00+00:00  0.0   0.0   0.0  0.000000   0.0   0.0   0.0    0.0   \n",
       "2021-12-03 12:00:00+00:00  0.0   0.0   0.0  0.000000   0.0   0.0   0.0    0.0   \n",
       "2021-12-03 13:00:00+00:00  0.0   0.0   0.0  0.004205   0.0   0.0   0.0    0.0   \n",
       "2021-12-03 14:00:00+00:00  0.0   0.0   0.0 -0.009791   0.0   0.0   0.0    0.0   \n",
       "\n",
       "                           ADBE  NVDA  ...  QCOM  GILD  FISV  BKNG  INTU  ADP  \\\n",
       "timestamp                              ...                                      \n",
       "2021-12-03 10:00:00+00:00   0.0   0.0  ...   0.0   0.0   0.0   0.0   0.0  0.0   \n",
       "2021-12-03 11:00:00+00:00   0.0   0.0  ...   0.0   0.0   0.0   0.0   0.0  0.0   \n",
       "2021-12-03 12:00:00+00:00   0.0   0.0  ...   0.0   0.0   0.0   0.0   0.0  0.0   \n",
       "2021-12-03 13:00:00+00:00   0.0   0.0  ...   0.0   0.0   0.0   0.0   0.0  0.0   \n",
       "2021-12-03 14:00:00+00:00   0.0   0.0  ...   0.0   0.0   0.0   0.0   0.0  0.0   \n",
       "\n",
       "                           CME  TMUS   MU       ret  \n",
       "timestamp                                            \n",
       "2021-12-03 10:00:00+00:00  0.0   0.0  0.0  0.000000  \n",
       "2021-12-03 11:00:00+00:00  0.0   0.0  0.0  0.000000  \n",
       "2021-12-03 12:00:00+00:00  0.0   0.0  0.0  0.000000  \n",
       "2021-12-03 13:00:00+00:00  0.0   0.0  0.0  0.000168  \n",
       "2021-12-03 14:00:00+00:00  0.0   0.0  0.0 -0.000392  \n",
       "\n",
       "[5 rows x 26 columns]"
      ]
     },
     "execution_count": 303,
     "metadata": {},
     "output_type": "execute_result"
    }
   ],
   "source": [
    "strategy_df.head()"
   ]
  },
  {
   "cell_type": "code",
   "execution_count": 304,
   "id": "a2019213",
   "metadata": {},
   "outputs": [
    {
     "data": {
      "text/plain": [
       "pandas.core.indexes.datetimes.DatetimeIndex"
      ]
     },
     "execution_count": 304,
     "metadata": {},
     "output_type": "execute_result"
    }
   ],
   "source": [
    "type(strategy_df['ret'].index)"
   ]
  },
  {
   "cell_type": "code",
   "execution_count": 305,
   "id": "5c215ffe",
   "metadata": {},
   "outputs": [],
   "source": [
    "data_daily = strategy_df['ret']"
   ]
  },
  {
   "cell_type": "code",
   "execution_count": 306,
   "id": "990f311c",
   "metadata": {},
   "outputs": [],
   "source": [
    "strategy_df.index = pd.to_datetime(strategy_df.index)\n",
    "\n",
    "# Set the 'timestamp' column as the index of the DataFrame\n",
    "#strategy_df.set_index('timestamp', inplace=True)\n"
   ]
  },
  {
   "cell_type": "code",
   "execution_count": 307,
   "id": "7a79b043",
   "metadata": {},
   "outputs": [
    {
     "data": {
      "text/plain": [
       "timestamp\n",
       "2021-12-03 10:00:00+00:00    0.000000\n",
       "2021-12-03 11:00:00+00:00    0.000000\n",
       "2021-12-03 12:00:00+00:00    0.000000\n",
       "2021-12-03 13:00:00+00:00    0.000168\n",
       "2021-12-03 14:00:00+00:00   -0.000392\n",
       "                               ...   \n",
       "2022-06-08 19:00:00+00:00   -0.000103\n",
       "2022-06-08 20:00:00+00:00   -0.000041\n",
       "2022-06-08 21:00:00+00:00    0.000013\n",
       "2022-06-08 22:00:00+00:00   -0.000015\n",
       "2022-06-08 23:00:00+00:00    0.000022\n",
       "Name: ret, Length: 2106, dtype: float64"
      ]
     },
     "execution_count": 307,
     "metadata": {},
     "output_type": "execute_result"
    }
   ],
   "source": [
    "strategy_df['ret']"
   ]
  },
  {
   "cell_type": "code",
   "execution_count": 308,
   "id": "9f4d5c7d",
   "metadata": {},
   "outputs": [],
   "source": [
    "data_daily = strategy_df['ret'].resample('D').last()"
   ]
  },
  {
   "cell_type": "code",
   "execution_count": 309,
   "id": "0b83ec11",
   "metadata": {},
   "outputs": [],
   "source": [
    "#Convert the index to YYYY-MM-DD format\n",
    "formatted_index = data_daily.index.strftime('%Y-%m-%d %H:00')\n",
    "\n",
    "#Create a new Series with the formatted index\n",
    "data_daily = pd.Series(data_daily.values, index=formatted_index)"
   ]
  },
  {
   "cell_type": "code",
   "execution_count": 310,
   "id": "b547e170",
   "metadata": {},
   "outputs": [],
   "source": [
    "data = data.fillna(method='ffill')"
   ]
  },
  {
   "cell_type": "code",
   "execution_count": 311,
   "id": "7e2c60cd",
   "metadata": {},
   "outputs": [
    {
     "data": {
      "text/plain": [
       "timestamp\n",
       "2021-12-03 00:00    0.000027\n",
       "2021-12-04 00:00   -0.000089\n",
       "2021-12-05 00:00         NaN\n",
       "2021-12-06 00:00   -0.000013\n",
       "2021-12-07 00:00    0.000043\n",
       "                      ...   \n",
       "2022-06-04 00:00         NaN\n",
       "2022-06-05 00:00         NaN\n",
       "2022-06-06 00:00    0.000000\n",
       "2022-06-07 00:00   -0.001022\n",
       "2022-06-08 00:00    0.000022\n",
       "Length: 188, dtype: float64"
      ]
     },
     "execution_count": 311,
     "metadata": {},
     "output_type": "execute_result"
    }
   ],
   "source": [
    "data_daily"
   ]
  },
  {
   "cell_type": "code",
   "execution_count": 312,
   "id": "f591f826",
   "metadata": {},
   "outputs": [],
   "source": [
    "#data_daily.index = pd.to_datetime(data_daily.index)"
   ]
  },
  {
   "cell_type": "code",
   "execution_count": 313,
   "id": "3ba4b07f",
   "metadata": {},
   "outputs": [],
   "source": [
    "# Convert the values in the data_daily Series to numeric type\n",
    "data_daily = pd.to_numeric(data_daily, errors='coerce')\n",
    "\n",
    "# Remove NaN values from the data_daily Series\n",
    "data_daily = data_daily.dropna()"
   ]
  },
  {
   "cell_type": "code",
   "execution_count": 314,
   "id": "15e4bb4a",
   "metadata": {},
   "outputs": [
    {
     "data": {
      "text/plain": [
       "timestamp\n",
       "2021-12-03 00:00    0.000027\n",
       "2021-12-04 00:00   -0.000089\n",
       "2021-12-06 00:00   -0.000013\n",
       "2021-12-07 00:00    0.000043\n",
       "2021-12-08 00:00   -0.000152\n",
       "                      ...   \n",
       "2022-06-02 00:00    0.000102\n",
       "2022-06-03 00:00    0.000119\n",
       "2022-06-06 00:00    0.000000\n",
       "2022-06-07 00:00   -0.001022\n",
       "2022-06-08 00:00    0.000022\n",
       "Length: 144, dtype: float64"
      ]
     },
     "execution_count": 314,
     "metadata": {},
     "output_type": "execute_result"
    }
   ],
   "source": [
    "data_daily"
   ]
  },
  {
   "cell_type": "code",
   "execution_count": 315,
   "id": "afc9536b",
   "metadata": {},
   "outputs": [
    {
     "ename": "TypeError",
     "evalue": "unsupported operand type(s) for -: 'str' and 'str'",
     "output_type": "error",
     "traceback": [
      "\u001b[1;31m---------------------------------------------------------------------------\u001b[0m",
      "\u001b[1;31mTypeError\u001b[0m                                 Traceback (most recent call last)",
      "\u001b[1;32m~\\AppData\\Local\\Temp/ipykernel_10992/3150391095.py\u001b[0m in \u001b[0;36m<module>\u001b[1;34m\u001b[0m\n\u001b[1;32m----> 1\u001b[1;33m \u001b[0mqs\u001b[0m\u001b[1;33m.\u001b[0m\u001b[0mreports\u001b[0m\u001b[1;33m.\u001b[0m\u001b[0mfull\u001b[0m\u001b[1;33m(\u001b[0m\u001b[0mdata_daily\u001b[0m\u001b[1;33m)\u001b[0m\u001b[1;33m\u001b[0m\u001b[1;33m\u001b[0m\u001b[0m\n\u001b[0m",
      "\u001b[1;32m~\\anaconda3\\lib\\site-packages\\quantstats\\reports.py\u001b[0m in \u001b[0;36mfull\u001b[1;34m(returns, benchmark, rf, grayscale, figsize, display, compounded, periods_per_year, match_dates)\u001b[0m\n\u001b[0;32m    276\u001b[0m \u001b[1;33m\u001b[0m\u001b[0m\n\u001b[0;32m    277\u001b[0m     \u001b[0mdd\u001b[0m \u001b[1;33m=\u001b[0m \u001b[0m_stats\u001b[0m\u001b[1;33m.\u001b[0m\u001b[0mto_drawdown_series\u001b[0m\u001b[1;33m(\u001b[0m\u001b[0mreturns\u001b[0m\u001b[1;33m)\u001b[0m\u001b[1;33m\u001b[0m\u001b[1;33m\u001b[0m\u001b[0m\n\u001b[1;32m--> 278\u001b[1;33m     \u001b[0mcol\u001b[0m \u001b[1;33m=\u001b[0m \u001b[0m_stats\u001b[0m\u001b[1;33m.\u001b[0m\u001b[0mdrawdown_details\u001b[0m\u001b[1;33m(\u001b[0m\u001b[0mdd\u001b[0m\u001b[1;33m)\u001b[0m\u001b[1;33m.\u001b[0m\u001b[0mcolumns\u001b[0m\u001b[1;33m[\u001b[0m\u001b[1;36m4\u001b[0m\u001b[1;33m]\u001b[0m\u001b[1;33m\u001b[0m\u001b[1;33m\u001b[0m\u001b[0m\n\u001b[0m\u001b[0;32m    279\u001b[0m     dd_info = _stats.drawdown_details(dd).sort_values(by = col,\n\u001b[0;32m    280\u001b[0m                                                        ascending = True)[:5]\n",
      "\u001b[1;32m~\\anaconda3\\lib\\site-packages\\quantstats\\stats.py\u001b[0m in \u001b[0;36mdrawdown_details\u001b[1;34m(drawdown)\u001b[0m\n\u001b[0;32m    818\u001b[0m         \u001b[1;32mreturn\u001b[0m \u001b[0m_pd\u001b[0m\u001b[1;33m.\u001b[0m\u001b[0mconcat\u001b[0m\u001b[1;33m(\u001b[0m\u001b[0m_dfs\u001b[0m\u001b[1;33m,\u001b[0m \u001b[0maxis\u001b[0m\u001b[1;33m=\u001b[0m\u001b[1;36m1\u001b[0m\u001b[1;33m)\u001b[0m\u001b[1;33m\u001b[0m\u001b[1;33m\u001b[0m\u001b[0m\n\u001b[0;32m    819\u001b[0m \u001b[1;33m\u001b[0m\u001b[0m\n\u001b[1;32m--> 820\u001b[1;33m     \u001b[1;32mreturn\u001b[0m \u001b[0m_drawdown_details\u001b[0m\u001b[1;33m(\u001b[0m\u001b[0mdrawdown\u001b[0m\u001b[1;33m)\u001b[0m\u001b[1;33m\u001b[0m\u001b[1;33m\u001b[0m\u001b[0m\n\u001b[0m\u001b[0;32m    821\u001b[0m \u001b[1;33m\u001b[0m\u001b[0m\n\u001b[0;32m    822\u001b[0m \u001b[1;33m\u001b[0m\u001b[0m\n",
      "\u001b[1;32m~\\anaconda3\\lib\\site-packages\\quantstats\\stats.py\u001b[0m in \u001b[0;36m_drawdown_details\u001b[1;34m(drawdown)\u001b[0m\n\u001b[0;32m    795\u001b[0m             \u001b[0mclean_dd\u001b[0m \u001b[1;33m=\u001b[0m \u001b[1;33m-\u001b[0m\u001b[0mremove_outliers\u001b[0m\u001b[1;33m(\u001b[0m\u001b[1;33m-\u001b[0m\u001b[0mdd\u001b[0m\u001b[1;33m,\u001b[0m \u001b[1;36m.99\u001b[0m\u001b[1;33m)\u001b[0m\u001b[1;33m\u001b[0m\u001b[1;33m\u001b[0m\u001b[0m\n\u001b[0;32m    796\u001b[0m             data.append((starts[i], dd.idxmin(), ends[i],\n\u001b[1;32m--> 797\u001b[1;33m                          \u001b[1;33m(\u001b[0m\u001b[0mends\u001b[0m\u001b[1;33m[\u001b[0m\u001b[0mi\u001b[0m\u001b[1;33m]\u001b[0m \u001b[1;33m-\u001b[0m \u001b[0mstarts\u001b[0m\u001b[1;33m[\u001b[0m\u001b[0mi\u001b[0m\u001b[1;33m]\u001b[0m\u001b[1;33m)\u001b[0m\u001b[1;33m.\u001b[0m\u001b[0mdays\u001b[0m\u001b[1;33m,\u001b[0m\u001b[1;33m\u001b[0m\u001b[1;33m\u001b[0m\u001b[0m\n\u001b[0m\u001b[0;32m    798\u001b[0m                          dd.min() * 100, clean_dd.min() * 100))\n\u001b[0;32m    799\u001b[0m \u001b[1;33m\u001b[0m\u001b[0m\n",
      "\u001b[1;31mTypeError\u001b[0m: unsupported operand type(s) for -: 'str' and 'str'"
     ]
    }
   ],
   "source": [
    "qs.reports.full(data_daily)"
   ]
  }
 ],
 "metadata": {
  "kernelspec": {
   "display_name": "Python 3 (ipykernel)",
   "language": "python",
   "name": "python3"
  },
  "language_info": {
   "codemirror_mode": {
    "name": "ipython",
    "version": 3
   },
   "file_extension": ".py",
   "mimetype": "text/x-python",
   "name": "python",
   "nbconvert_exporter": "python",
   "pygments_lexer": "ipython3",
   "version": "3.9.13"
  }
 },
 "nbformat": 4,
 "nbformat_minor": 5
}
