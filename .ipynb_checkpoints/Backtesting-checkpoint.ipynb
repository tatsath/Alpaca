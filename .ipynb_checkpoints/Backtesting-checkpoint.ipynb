{
 "cells": [
  {
   "cell_type": "markdown",
   "id": "9f37dfa9",
   "metadata": {},
   "source": [
    "\"\"\"\n",
    "Alpaca API - MACD + stochastic strategy bactesting using Intraday KPIs\n",
    "\n",
    "\"\"\""
   ]
  },
  {
   "cell_type": "code",
   "execution_count": 1,
   "id": "7e5b7acf",
   "metadata": {},
   "outputs": [],
   "source": [
    "import requests\n",
    "import os\n",
    "import json\n",
    "import pandas as pd\n",
    "from copy import deepcopy\n",
    "import numpy as np"
   ]
  },
  {
   "cell_type": "code",
   "execution_count": 2,
   "id": "9cfa1e6a",
   "metadata": {},
   "outputs": [],
   "source": [
    "os.chdir(\"D:\\\\Python\\\\Alpaca\") #For the keys - change this based on the path on your local machine"
   ]
  },
  {
   "cell_type": "code",
   "execution_count": 20,
   "id": "ca9a96eb",
   "metadata": {},
   "outputs": [],
   "source": [
    "endpoint = \"https://data.alpaca.markets/v1\"\n",
    "headers = json.loads(open(\"keys.txt\",'r').read())\n",
    "tickers = \"META,AMZN,INTC,MSFT,AAPL,GOOG,CSCO,CMCSA,ADBE,NVDA,NFLX,PYPL,AMGN,AVGO,TXN,CHTR,QCOM,GILD,FISV,BKNG,INTU,ADP,CME,TMUS,MU\""
   ]
  },
  {
   "cell_type": "code",
   "execution_count": 26,
   "id": "52c80add",
   "metadata": {},
   "outputs": [],
   "source": [
    "def hist_data(symbols, timeframe=\"15Min\", limit=200, start=\"\", end=\"\", after=\"\", until=\"\"):\n",
    "    \"\"\"\n",
    "    returns historical bar data for a string of symbols separated by comma\n",
    "    symbols should be in a string format separated by comma e.g. symbols = \"MSFT,AMZN,GOOG\"\n",
    "    \"\"\"\n",
    "    df_data = {}\n",
    "    bar_url = endpoint + \"/bars/{}\".format(timeframe)\n",
    "    params = {\"symbols\" : symbols,\n",
    "              \"limit\" : limit,\n",
    "              \"start\" : start,\n",
    "              \"end\" : end,\n",
    "              \"after\" : after,\n",
    "              \"until\" : until}\n",
    "    r = requests.get(bar_url, headers = headers, params = params)\n",
    "    json_dump = r.json()\n",
    "    for symbol in json_dump:\n",
    "        temp = pd.DataFrame(json_dump[symbol])\n",
    "        temp.rename({\"t\":\"time\",\"o\":\"open\",\"h\":\"high\",\"l\":\"low\",\"c\":\"close\",\"v\":\"volume\"},axis=1, inplace=True)\n",
    "        temp[\"time\"] = pd.to_datetime(temp[\"time\"], unit=\"s\")\n",
    "        temp.set_index(\"time\",inplace=True)\n",
    "        temp.index = temp.index.tz_localize(\"UTC\").tz_convert(\"America/Indiana/Petersburg\")\n",
    "        temp.between_time('09:31', '16:00')\n",
    "        df_data[symbol] = temp\n",
    "    return df_data"
   ]
  },
  {
   "cell_type": "code",
   "execution_count": 22,
   "id": "ea6fb25c",
   "metadata": {},
   "outputs": [],
   "source": [
    "def MACD(df_dict, a=12 ,b=26, c=9):\n",
    "    \"\"\"function to calculate MACD\n",
    "       typical values a(fast moving average) = 12; \n",
    "                      b(slow moving average) =26; \n",
    "                      c(signal line ma window) =9\"\"\"\n",
    "    for df in df_dict:\n",
    "        df_dict[df][\"ma_fast\"] = df_dict[df][\"close\"].ewm(span=a, min_periods=a).mean()\n",
    "        df_dict[df][\"ma_slow\"] = df_dict[df][\"close\"].ewm(span=b, min_periods=b).mean()\n",
    "        df_dict[df][\"macd\"] = df_dict[df][\"ma_fast\"] - df_dict[df][\"ma_slow\"]\n",
    "        df_dict[df][\"signal\"] = df_dict[df][\"macd\"].ewm(span=c, min_periods=c).mean()\n",
    "        df_dict[df].drop([\"ma_fast\",\"ma_slow\"], axis=1, inplace=True)\n",
    "\n",
    "def stochastic(df_dict, lookback=14, k=3, d=3):\n",
    "    \"\"\"function to calculate Stochastic Oscillator\n",
    "       lookback = lookback period\n",
    "       k and d = moving average window for %K and %D\"\"\"\n",
    "    for df in df_dict:\n",
    "        df_dict[df][\"HH\"] = df_dict[df][\"high\"].rolling(lookback).max()\n",
    "        df_dict[df][\"LL\"] = df_dict[df][\"low\"].rolling(lookback).min()\n",
    "        df_dict[df][\"%K\"] = (100 * (df_dict[df][\"close\"] - df_dict[df][\"LL\"])/(df_dict[df][\"HH\"]-df_dict[df][\"LL\"])).rolling(k).mean()\n",
    "        df_dict[df][\"%D\"] = df_dict[df][\"%K\"].rolling(d).mean()\n",
    "        df_dict[df].drop([\"HH\",\"LL\"], axis=1, inplace=True)\n",
    " "
   ]
  },
  {
   "cell_type": "code",
   "execution_count": 23,
   "id": "eeab3d54",
   "metadata": {},
   "outputs": [],
   "source": [
    "def winRate(DF):\n",
    "    #\"function to calculate win rate of intraday trading strategy\"\n",
    "    df = DF[\"return\"]\n",
    "    pos = df[df>1]\n",
    "    neg = df[df<1]\n",
    "    return (len(pos)/len(pos+neg))*100\n",
    "\n",
    "def meanretpertrade(DF):\n",
    "    df = DF[\"return\"]\n",
    "    df_temp = (df-1).dropna()\n",
    "    return df_temp[df_temp!=0].mean()\n",
    "\n",
    "def meanretwintrade(DF):\n",
    "    df = DF[\"return\"]\n",
    "    df_temp = (df-1).dropna()\n",
    "    return df_temp[df_temp>0].mean()\n",
    "\n",
    "def meanretlostrade(DF):\n",
    "    df = DF[\"return\"]\n",
    "    df_temp = (df-1).dropna()\n",
    "    return df_temp[df_temp<0].mean()\n",
    "\n",
    "def maxconsectvloss(DF):\n",
    "    df = DF[\"return\"]\n",
    "    df_temp = df.dropna(axis=0)\n",
    "    df_temp2 = np.where(df_temp<1,1,0)\n",
    "    count_consecutive = []\n",
    "    seek = 0\n",
    "    for i in range(len(df_temp2)):\n",
    "        if df_temp2[i] == 0:\n",
    "            if seek > 0:\n",
    "                count_consecutive.append(seek)\n",
    "            seek = 0\n",
    "        else:\n",
    "            seek+=1\n",
    "    if len(count_consecutive) > 0:\n",
    "        return max(count_consecutive)\n",
    "    else:\n",
    "        return 0"
   ]
  },
  {
   "cell_type": "code",
   "execution_count": 27,
   "id": "ce71d644",
   "metadata": {},
   "outputs": [
    {
     "ename": "NameError",
     "evalue": "name 'json_dump' is not defined",
     "output_type": "error",
     "traceback": [
      "\u001b[1;31m---------------------------------------------------------------------------\u001b[0m",
      "\u001b[1;31mNameError\u001b[0m                                 Traceback (most recent call last)",
      "\u001b[1;32m~\\AppData\\Local\\Temp/ipykernel_2316/814193880.py\u001b[0m in \u001b[0;36m<module>\u001b[1;34m\u001b[0m\n\u001b[0;32m      1\u001b[0m \u001b[1;31m#extract and store historical data in dataframe\u001b[0m\u001b[1;33m\u001b[0m\u001b[1;33m\u001b[0m\u001b[0m\n\u001b[1;32m----> 2\u001b[1;33m \u001b[0mhistoricalData\u001b[0m \u001b[1;33m=\u001b[0m \u001b[0mhist_data\u001b[0m\u001b[1;33m(\u001b[0m\u001b[0mtickers\u001b[0m\u001b[1;33m,\u001b[0m \u001b[0mlimit\u001b[0m\u001b[1;33m=\u001b[0m\u001b[1;36m1000\u001b[0m\u001b[1;33m)\u001b[0m\u001b[1;31m#extract and store historical data in dataframe\u001b[0m\u001b[1;33m\u001b[0m\u001b[1;33m\u001b[0m\u001b[0m\n\u001b[0m",
      "\u001b[1;32m~\\AppData\\Local\\Temp/ipykernel_2316/2553602161.py\u001b[0m in \u001b[0;36mhist_data\u001b[1;34m(symbols, timeframe, limit, start, end, after, until)\u001b[0m\n\u001b[0;32m     13\u001b[0m               \"until\" : until}\n\u001b[0;32m     14\u001b[0m     \u001b[0mr\u001b[0m \u001b[1;33m=\u001b[0m \u001b[0mrequests\u001b[0m\u001b[1;33m.\u001b[0m\u001b[0mget\u001b[0m\u001b[1;33m(\u001b[0m\u001b[0mbar_url\u001b[0m\u001b[1;33m,\u001b[0m \u001b[0mheaders\u001b[0m \u001b[1;33m=\u001b[0m \u001b[0mheaders\u001b[0m\u001b[1;33m,\u001b[0m \u001b[0mparams\u001b[0m \u001b[1;33m=\u001b[0m \u001b[0mparams\u001b[0m\u001b[1;33m)\u001b[0m\u001b[1;33m\u001b[0m\u001b[1;33m\u001b[0m\u001b[0m\n\u001b[1;32m---> 15\u001b[1;33m     \u001b[0mtemp\u001b[0m \u001b[1;33m=\u001b[0m \u001b[0mpd\u001b[0m\u001b[1;33m.\u001b[0m\u001b[0mDataFrame\u001b[0m\u001b[1;33m(\u001b[0m\u001b[0mjson_dump\u001b[0m\u001b[1;33m[\u001b[0m\u001b[0msymbol\u001b[0m\u001b[1;33m]\u001b[0m\u001b[1;33m)\u001b[0m\u001b[1;33m\u001b[0m\u001b[1;33m\u001b[0m\u001b[0m\n\u001b[0m\u001b[0;32m     16\u001b[0m     \u001b[1;32mfor\u001b[0m \u001b[0msymbol\u001b[0m \u001b[1;32min\u001b[0m \u001b[0mjson_dump\u001b[0m\u001b[1;33m:\u001b[0m\u001b[1;33m\u001b[0m\u001b[1;33m\u001b[0m\u001b[0m\n\u001b[0;32m     17\u001b[0m         \u001b[0mtemp\u001b[0m \u001b[1;33m=\u001b[0m \u001b[0mpd\u001b[0m\u001b[1;33m.\u001b[0m\u001b[0mDataFrame\u001b[0m\u001b[1;33m(\u001b[0m\u001b[0mjson_dump\u001b[0m\u001b[1;33m[\u001b[0m\u001b[0msymbol\u001b[0m\u001b[1;33m]\u001b[0m\u001b[1;33m)\u001b[0m\u001b[1;33m\u001b[0m\u001b[1;33m\u001b[0m\u001b[0m\n",
      "\u001b[1;31mNameError\u001b[0m: name 'json_dump' is not defined"
     ]
    }
   ],
   "source": [
    "#extract and store historical data in dataframe\n",
    "historicalData = hist_data(tickers, limit=1000)#extract and store historical data in dataframe\n"
   ]
  },
  {
   "cell_type": "code",
   "execution_count": 17,
   "id": "86fee7cb",
   "metadata": {},
   "outputs": [
    {
     "ename": "NameError",
     "evalue": "name 'time' is not defined",
     "output_type": "error",
     "traceback": [
      "\u001b[1;31m---------------------------------------------------------------------------\u001b[0m",
      "\u001b[1;31mNameError\u001b[0m                                 Traceback (most recent call last)",
      "\u001b[1;32m~\\AppData\\Local\\Temp/ipykernel_2316/1362017380.py\u001b[0m in \u001b[0;36m<module>\u001b[1;34m\u001b[0m\n\u001b[1;32m----> 1\u001b[1;33m \u001b[0mhistoricalData\u001b[0m \u001b[1;33m=\u001b[0m \u001b[0mhist_data\u001b[0m\u001b[1;33m(\u001b[0m\u001b[0mtickers\u001b[0m\u001b[1;33m,\u001b[0m \u001b[0mstart_date\u001b[0m \u001b[1;33m=\u001b[0m\u001b[0mtime\u001b[0m\u001b[1;33m.\u001b[0m\u001b[0mstrftime\u001b[0m\u001b[1;33m(\u001b[0m\u001b[1;34m\"%Y-%m-%d\"\u001b[0m\u001b[1;33m)\u001b[0m\u001b[1;33m,\u001b[0m \u001b[0mtimeframe\u001b[0m\u001b[1;33m=\u001b[0m\u001b[1;34m\"Minute\"\u001b[0m\u001b[1;33m)\u001b[0m\u001b[1;33m\u001b[0m\u001b[1;33m\u001b[0m\u001b[0m\n\u001b[0m",
      "\u001b[1;31mNameError\u001b[0m: name 'time' is not defined"
     ]
    }
   ],
   "source": [
    "historicalData = hist_data(tickers, start_date =time.strftime(\"%Y-%m-%d\"), timeframe=\"Minute\")"
   ]
  },
  {
   "cell_type": "code",
   "execution_count": 13,
   "id": "f2cba271",
   "metadata": {},
   "outputs": [
    {
     "ename": "NameError",
     "evalue": "name 'historicalData' is not defined",
     "output_type": "error",
     "traceback": [
      "\u001b[1;31m---------------------------------------------------------------------------\u001b[0m",
      "\u001b[1;31mNameError\u001b[0m                                 Traceback (most recent call last)",
      "\u001b[1;32m~\\AppData\\Local\\Temp/ipykernel_2316/2913887699.py\u001b[0m in \u001b[0;36m<module>\u001b[1;34m\u001b[0m\n\u001b[0;32m      1\u001b[0m \u001b[1;31m#####################################   BACKTESTING   ##################################\u001b[0m\u001b[1;33m\u001b[0m\u001b[1;33m\u001b[0m\u001b[0m\n\u001b[1;32m----> 2\u001b[1;33m \u001b[0mohlc_dict\u001b[0m \u001b[1;33m=\u001b[0m \u001b[0mdeepcopy\u001b[0m\u001b[1;33m(\u001b[0m\u001b[0mhistoricalData\u001b[0m\u001b[1;33m)\u001b[0m\u001b[1;33m\u001b[0m\u001b[1;33m\u001b[0m\u001b[0m\n\u001b[0m\u001b[0;32m      3\u001b[0m \u001b[0mstoch_signal\u001b[0m \u001b[1;33m=\u001b[0m \u001b[1;33m{\u001b[0m\u001b[1;33m}\u001b[0m\u001b[1;33m\u001b[0m\u001b[1;33m\u001b[0m\u001b[0m\n\u001b[0;32m      4\u001b[0m \u001b[0mtickers_signal\u001b[0m \u001b[1;33m=\u001b[0m \u001b[1;33m{\u001b[0m\u001b[1;33m}\u001b[0m\u001b[1;33m\u001b[0m\u001b[1;33m\u001b[0m\u001b[0m\n\u001b[0;32m      5\u001b[0m \u001b[0mtickers_ret\u001b[0m \u001b[1;33m=\u001b[0m \u001b[1;33m{\u001b[0m\u001b[1;33m}\u001b[0m\u001b[1;33m\u001b[0m\u001b[1;33m\u001b[0m\u001b[0m\n",
      "\u001b[1;31mNameError\u001b[0m: name 'historicalData' is not defined"
     ]
    }
   ],
   "source": [
    "    \n",
    "#####################################   BACKTESTING   ##################################\n",
    "ohlc_dict = deepcopy(historicalData)\n",
    "stoch_signal = {}\n",
    "tickers_signal = {}\n",
    "tickers_ret = {}\n",
    "trade_count = {}\n",
    "trade_data = {}\n",
    "hwm = {}\n",
    "stochastic(ohlc_dict)\n",
    "MACD(ohlc_dict)\n",
    "\n",
    "\n",
    "for ticker in tickers.split(\",\"):\n",
    "    print(\"Calculating MACD & Stochastics for \",ticker)\n",
    "    ohlc_dict[ticker].dropna(inplace=True)\n",
    "    stoch_signal[ticker] = \"\"\n",
    "    trade_count[ticker] = 0\n",
    "    tickers_signal[ticker] = \"\"\n",
    "    hwm[ticker] = 0\n",
    "    tickers_ret[ticker] = [0]\n",
    "    trade_data[ticker] = {}\n",
    "    \n",
    "for ticker in tickers.split(\",\"):\n",
    "    print(\"Calculating daily returns for \",ticker)\n",
    "    for i in range(1,len(ohlc_dict[ticker])-1):\n",
    "        if ohlc_dict[ticker][\"%K\"][i] < 20:\n",
    "            stoch_signal[ticker] = \"oversold\"\n",
    "        elif ohlc_dict[ticker][\"%K\"][i] > 80:\n",
    "            stoch_signal[ticker] = \"overbought\"\n",
    "        \n",
    "        if tickers_signal[ticker] == \"\":\n",
    "            tickers_ret[ticker].append(0)\n",
    "            if ohlc_dict[ticker][\"macd\"][i]> ohlc_dict[ticker][\"signal\"][i] and \\\n",
    "               ohlc_dict[ticker][\"macd\"][i-1]< ohlc_dict[ticker][\"signal\"][i-1] and \\\n",
    "               stoch_signal[ticker]==\"oversold\":\n",
    "                   tickers_signal[ticker] = \"Buy\"\n",
    "                   trade_count[ticker]+=1\n",
    "                   trade_data[ticker][trade_count[ticker]] = [ohlc_dict[ticker][\"open\"][i+1]]\n",
    "                   hwm[ticker] = ohlc_dict[ticker][\"open\"][i+1]\n",
    "                     \n",
    "        elif tickers_signal[ticker] == \"Buy\":\n",
    "            if ohlc_dict[ticker][\"low\"][i]<0.985*hwm[ticker]:\n",
    "                tickers_signal[ticker] = \"\"\n",
    "                trade_data[ticker][trade_count[ticker]].append(0.985*hwm[ticker])\n",
    "                trade_count[ticker]+=1\n",
    "                tickers_ret[ticker].append((0.985*hwm[ticker]/ohlc_dict[ticker][\"close\"][i-1])-1)\n",
    "            else:\n",
    "                hwm[ticker] = max(hwm[ticker],ohlc_dict[ticker][\"high\"][i])\n",
    "                tickers_ret[ticker].append((ohlc_dict[ticker][\"close\"][i]/ohlc_dict[ticker][\"close\"][i-1])-1)\n",
    "                            \n",
    "    if trade_count[ticker]%2 != 0:\n",
    "        trade_data[ticker][trade_count[ticker]].append(ohlc_dict[ticker][\"close\"][i+1])\n",
    "    \n",
    "    tickers_ret[ticker].append(0) #since we are removing the last row\n",
    "    ohlc_dict[ticker][\"ret\"] = np.array(tickers_ret[ticker])\n",
    "\n",
    "# calculating overall strategy's KPIs\n",
    "trade_df = {}\n",
    "overall_return = 0\n",
    "for ticker in tickers.split(\",\"):\n",
    "    trade_df[ticker] = pd.DataFrame(trade_data[ticker]).T\n",
    "    trade_df[ticker].columns = [\"trade_entry_pr\",\"trade_exit_pr\"]\n",
    "    trade_df[ticker][\"return\"] = trade_df[ticker][\"trade_exit_pr\"]/trade_df[ticker][\"trade_entry_pr\"]\n",
    "    print(\"total return {} = {}\".format(ticker,trade_df[ticker][\"return\"].cumprod().iloc[-1] - 1))\n",
    "    overall_return+= (1/len(tickers.split(\",\")))*(trade_df[ticker][\"return\"].cumprod().iloc[-1] - 1)\n",
    "\n",
    "print(\"Overall Return of Strategy = {}\".format(overall_return))\n",
    "  \n",
    "#calculating individual stock's KPIs\n",
    "win_rate = {}\n",
    "mean_ret_pt = {}\n",
    "mean_ret_pwt = {}\n",
    "mean_ret_plt = {}\n",
    "max_cons_loss = {}\n",
    "for ticker in tickers.split(\",\"):\n",
    "    print(\"calculating intraday KPIs for \",ticker)\n",
    "    win_rate[ticker] =  winRate(trade_df[ticker])      \n",
    "    mean_ret_pt[ticker] =  meanretpertrade(trade_df[ticker])\n",
    "    mean_ret_pwt[ticker] =  meanretwintrade(trade_df[ticker])\n",
    "    mean_ret_plt[ticker] =  meanretlostrade(trade_df[ticker])\n",
    "    max_cons_loss[ticker] =  maxconsectvloss(trade_df[ticker])\n",
    "\n",
    "KPI_df = pd.DataFrame([win_rate,mean_ret_pt,mean_ret_pwt,mean_ret_plt,max_cons_loss],\n",
    "                      index=[\"Win Rate\",\"Mean Return Per Trade\",\"MR Per WR\", \"MR Per LR\", \"Max Cons Loss\"])      \n",
    "KPI_df.T\n",
    "    "
   ]
  }
 ],
 "metadata": {
  "kernelspec": {
   "display_name": "Python 3 (ipykernel)",
   "language": "python",
   "name": "python3"
  },
  "language_info": {
   "codemirror_mode": {
    "name": "ipython",
    "version": 3
   },
   "file_extension": ".py",
   "mimetype": "text/x-python",
   "name": "python",
   "nbconvert_exporter": "python",
   "pygments_lexer": "ipython3",
   "version": "3.9.13"
  }
 },
 "nbformat": 4,
 "nbformat_minor": 5
}
