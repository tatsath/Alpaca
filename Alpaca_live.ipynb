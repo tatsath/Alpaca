{
 "cells": [
  {
   "cell_type": "markdown",
   "id": "8eca30d1",
   "metadata": {},
   "source": [
    "\"\"\"\n",
    "Alpaca API - MACD + stochastic strategy (V2 API)\n",
    "\n",
    "\n",
    "\"\"\""
   ]
  },
  {
   "cell_type": "code",
   "execution_count": 5,
   "id": "602d1557",
   "metadata": {},
   "outputs": [],
   "source": [
    "import os\n",
    "import json\n",
    "import alpaca_trade_api as tradeapi\n",
    "from alpaca_trade_api.rest import REST, TimeFrame\n",
    "import time"
   ]
  },
  {
   "cell_type": "code",
   "execution_count": 6,
   "id": "8945cc07",
   "metadata": {},
   "outputs": [],
   "source": [
    "os.chdir(\"D:\\\\Python\\\\Alpaca_Keys\") #change this based on the path on your local machine"
   ]
  },
  {
   "cell_type": "code",
   "execution_count": 16,
   "id": "3c56eeba",
   "metadata": {},
   "outputs": [],
   "source": [
    "endpoint = \"https://data.alpaca.markets/v2\"\n",
    "headers = json.loads(open(\"keys.txt\",'r').read())\n",
    "api = tradeapi.REST(headers[\"APCA-API-KEY-ID\"], headers[\"APCA-API-SECRET-KEY\"], base_url='https://paper-api.alpaca.markets')\n",
    "tickers = ['META','AMZN','INTC','MSFT','AAPL','GOOG','CSCO','CMCSA','ADBE',\n",
    "           'NVDA','NFLX','PYPL','AMGN','AVGO','TXN','CHTR','QCOM','GILD',\n",
    "           'FISV','BKNG','INTU','ADP','CME','TMUS','MU']\n",
    "max_pos = 3000 #max position size for each ticker\n",
    "stoch_signal = {}\n",
    "for ticker in tickers:\n",
    "    stoch_signal[ticker] = \"\""
   ]
  },
  {
   "cell_type": "code",
   "execution_count": 17,
   "id": "6b56fcd5",
   "metadata": {},
   "outputs": [],
   "source": [
    "def hist_data(symbols, start_date =\"2021-12-01\", timeframe=\"Minute\"):\n",
    "    \"\"\"\n",
    "    returns historical bar data for a list of tickers e.g. symbols = [\"MSFT,AMZN,GOOG\"]\n",
    "    \"\"\"\n",
    "    df_data = {}\n",
    "    api = REST(headers[\"APCA-API-KEY-ID\"], headers[\"APCA-API-SECRET-KEY\"], base_url=endpoint)\n",
    "    for ticker in symbols:\n",
    "        if timeframe == \"Minute\":\n",
    "            df_data[ticker] = api.get_bars(ticker, TimeFrame.Minute, start_date, adjustment='all').df\n",
    "        elif timeframe == \"Hour\":\n",
    "            df_data[ticker] = api.get_bars(ticker, TimeFrame.Hour, start_date, adjustment='all').df\n",
    "        else:\n",
    "            df_data[ticker] = api.get_bars(ticker, TimeFrame.Day, start_date, adjustment='all').df\n",
    "    return df_data"
   ]
  },
  {
   "cell_type": "code",
   "execution_count": 18,
   "id": "7f25b78a",
   "metadata": {},
   "outputs": [],
   "source": [
    "def MACD(df_dict, a=12 ,b=26, c=9):\n",
    "    \"\"\"function to calculate MACD\n",
    "       typical values a(fast moving average) = 12; \n",
    "                      b(slow moving average) =26; \n",
    "                      c(signal line ma window) =9\"\"\"\n",
    "    for df in df_dict:\n",
    "        df_dict[df][\"ma_fast\"] = df_dict[df][\"close\"].ewm(span=a, min_periods=a).mean()\n",
    "        df_dict[df][\"ma_slow\"] = df_dict[df][\"close\"].ewm(span=b, min_periods=b).mean()\n",
    "        df_dict[df][\"macd\"] = df_dict[df][\"ma_fast\"] - df_dict[df][\"ma_slow\"]\n",
    "        df_dict[df][\"signal\"] = df_dict[df][\"macd\"].ewm(span=c, min_periods=c).mean()\n",
    "        df_dict[df].drop([\"ma_fast\",\"ma_slow\"], axis=1, inplace=True)\n",
    "\n",
    "def stochastic(df_dict, lookback=14, k=3, d=3):\n",
    "    \"\"\"function to calculate Stochastic Oscillator\n",
    "       lookback = lookback period\n",
    "       k and d = moving average window for %K and %D\"\"\"\n",
    "    for df in df_dict:\n",
    "        df_dict[df][\"HH\"] = df_dict[df][\"high\"].rolling(lookback).max()\n",
    "        df_dict[df][\"LL\"] = df_dict[df][\"low\"].rolling(lookback).min()\n",
    "        df_dict[df][\"%K\"] = (100 * (df_dict[df][\"close\"] - df_dict[df][\"LL\"])/(df_dict[df][\"HH\"]-df_dict[df][\"LL\"])).rolling(k).mean()\n",
    "        df_dict[df][\"%D\"] = df_dict[df][\"%K\"].rolling(d).mean()\n",
    "        df_dict[df].drop([\"HH\",\"LL\"], axis=1, inplace=True)"
   ]
  },
  {
   "cell_type": "code",
   "execution_count": null,
   "id": "a50bb2dc",
   "metadata": {},
   "outputs": [
    {
     "name": "stdout",
     "output_type": "stream",
     "text": [
      "starting iteration at 2023-05-19 13:46:39\n",
      "existing position of 1 stocks in AAPL...skipping\n",
      "starting iteration at 2023-05-19 13:47:39\n",
      "existing position of 1 stocks in AAPL...skipping\n",
      "starting iteration at 2023-05-19 13:48:39\n",
      "existing position of 1 stocks in AAPL...skipping\n",
      "starting iteration at 2023-05-19 13:49:39\n",
      "existing position of 1 stocks in AAPL...skipping\n"
     ]
    }
   ],
   "source": [
    "def main():\n",
    "    global stoch_signal\n",
    "    historicalData = hist_data(tickers, start_date =time.strftime(\"%Y-%m-%d\"), timeframe=\"Minute\") \n",
    "\n",
    "    MACD(historicalData)\n",
    "    stochastic(historicalData)\n",
    "    positions = api.list_positions()\n",
    "    \n",
    "    for ticker in tickers:\n",
    "        historicalData[ticker].dropna(inplace=True)\n",
    "        existing_pos = False\n",
    "        \n",
    "        if historicalData[ticker][\"%K\"][-1] < 20:\n",
    "            stoch_signal[ticker] = \"oversold\"\n",
    "        elif historicalData[ticker][\"%K\"][-1] > 80:\n",
    "            stoch_signal[ticker] = \"overbought\"\n",
    "        \n",
    "        for position in positions:\n",
    "            if len(positions) > 0:\n",
    "                if position.symbol == ticker and position.qty !=0:\n",
    "                    print(\"existing position of {} stocks in {}...skipping\".format(position.qty, ticker))\n",
    "                    existing_pos = True\n",
    "        \n",
    "        if historicalData[ticker][\"macd\"].iloc[-1]> historicalData[ticker][\"signal\"].iloc[-1] and \\\n",
    "            historicalData[ticker][\"macd\"].iloc[-2]< historicalData[ticker][\"signal\"].iloc[-2] and \\\n",
    "            stoch_signal[ticker]==\"oversold\" and existing_pos == False:\n",
    "                api.submit_order(ticker, max(1,int(max_pos/historicalData[ticker][\"close\"].iloc[-1])), \"buy\", \"market\", \"ioc\")\n",
    "                print(\"bought {} stocks in {}\".format(int(max_pos/historicalData[ticker][\"close\"].iloc[-1]),ticker))\n",
    "                time.sleep(2)\n",
    "                try:\n",
    "                    filled_qty = api.get_position(ticker).qty\n",
    "                    time.sleep(1)\n",
    "                    api.submit_order(ticker, int(filled_qty), \"sell\", \"trailing_stop\", \"day\", trail_percent = \"1.5\")\n",
    "                except Exception as e:\n",
    "                    print(ticker, e)\n",
    "\n",
    "\n",
    "starttime = time.time()\n",
    "timeout = starttime + 60*60*1\n",
    "while time.time() <= timeout:\n",
    "    print(\"starting iteration at {}\".format(time.strftime(\"%Y-%m-%d %H:%M:%S\")))\n",
    "    main()\n",
    "    time.sleep(60 - ((time.time() - starttime) % 60)) \n",
    "\n",
    "#close out all positions and orders    \n",
    "api.close_all_positions()\n",
    "time.sleep(5)\n",
    "api.cancel_all_orders()\n",
    "time.sleep(5)"
   ]
  }
 ],
 "metadata": {
  "kernelspec": {
   "display_name": "Python 3 (ipykernel)",
   "language": "python",
   "name": "python3"
  },
  "language_info": {
   "codemirror_mode": {
    "name": "ipython",
    "version": 3
   },
   "file_extension": ".py",
   "mimetype": "text/x-python",
   "name": "python",
   "nbconvert_exporter": "python",
   "pygments_lexer": "ipython3",
   "version": "3.9.13"
  }
 },
 "nbformat": 4,
 "nbformat_minor": 5
}
